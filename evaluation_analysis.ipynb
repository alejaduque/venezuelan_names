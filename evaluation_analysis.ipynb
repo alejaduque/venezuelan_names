{
 "cells": [
  {
   "cell_type": "code",
   "execution_count": 46,
   "metadata": {},
   "outputs": [],
   "source": [
    "import pandas as pd #for reading and manipulating \n",
    "import re #Regular expressions\n",
    "import numpy as np #for manipulating arrays"
   ]
  },
  {
   "cell_type": "code",
   "execution_count": 47,
   "metadata": {},
   "outputs": [],
   "source": [
    "#Read CSV with evaluation data\n",
    "data= 'human_evaluation/venezuelan_names_human_evaluation.csv'\n",
    "df= pd.read_csv(data) #full dataframe\n"
   ]
  },
  {
   "cell_type": "code",
   "execution_count": 48,
   "metadata": {},
   "outputs": [],
   "source": [
    "#Dropping duplicates \n",
    "\n",
    "columns= list(df.keys()) #See duplicated columns\n",
    "filtered_items = [item for item in columns if re.search(r'\\.\\d+$', item)] # Filter items using regular expression\n",
    "\n",
    "for i in filtered_items: #looks at all items in filtered list and drops columns\n",
    "    df.drop(columns=[i])"
   ]
  },
  {
   "cell_type": "code",
   "execution_count": 49,
   "metadata": {},
   "outputs": [
    {
     "name": "stdout",
     "output_type": "stream",
     "text": [
      "total number of names in sample:169\n"
     ]
    }
   ],
   "source": [
    "total_sample= df.keys()[2:] #full sample with names\n",
    "print(f'total number of names in sample:{len(total_sample)}')"
   ]
  },
  {
   "cell_type": "code",
   "execution_count": 50,
   "metadata": {},
   "outputs": [],
   "source": [
    "#Translating answers to numeric data \n",
    "\n",
    "# Function to convert alphabetic data into numbers\n",
    "def binarizing_data(label):\n",
    "    if 'No' in label:\n",
    "        return 0\n",
    "    elif 'Sí' in label:\n",
    "        return 1\n",
    "\n",
    "for i in list(df.keys()[1:]):\n",
    "    df[i] = df[i].apply(lambda x: binarizing_data(x))"
   ]
  },
  {
   "cell_type": "code",
   "execution_count": 51,
   "metadata": {},
   "outputs": [],
   "source": [
    "#Splitting participants \n",
    "df_v= df[df['¿Eres de nacionalidad venezolana?']==1] #data from people who are venezuelan speakers. 67\n",
    "df_f= df[df['¿Eres de nacionalidad venezolana?']==0] #data from people who are not venezuelan speakers. 14"
   ]
  },
  {
   "cell_type": "code",
   "execution_count": 52,
   "metadata": {},
   "outputs": [],
   "source": [
    "#Calculates acceptability of names \n",
    "\n",
    "def acceptability(dataframe, list_of_names): \n",
    "    output = {} #all outputs\n",
    "    for i in list_of_names:\n",
    "        data= dataframe[i].values #takes values of a single name\n",
    "        number= sum(data) / len(data) #calculates rate of acceptability in relation to number of participants\n",
    "        output[i]=number\n",
    "    return output  \n",
    "\n",
    "v_acceptability= acceptability(df_v, total_sample)  \n",
    "f_acceptability= acceptability(df_f, total_sample)   "
   ]
  },
  {
   "cell_type": "code",
   "execution_count": 53,
   "metadata": {},
   "outputs": [
    {
     "name": "stdout",
     "output_type": "stream",
     "text": [
      "Acceptability by venezuelan speakers:0.4645411993287997\n",
      "Acceptability by non-venezuelan speakers:0.5097210481825866\n",
      "Overall acceptability:0.47235006209365177\n"
     ]
    }
   ],
   "source": [
    "#Mean of acceptability \n",
    "\n",
    "mean_v = np.asarray(list(v_acceptability.values())).mean() #for venezuelan speakers\n",
    "mean_f = np.asarray(list(f_acceptability.values())).mean() #for non-venezuelan speakers (i.e. speakers of other (hispanic) dialects)\n",
    "overall_mean= (67/81)*mean_v + (14/81)*mean_f\n",
    "\n",
    "print(f'Acceptability by venezuelan speakers:{mean_v}')\n",
    "print(f'Acceptability by non-venezuelan speakers:{mean_f}')\n",
    "print(f'Overall acceptability:{overall_mean}')"
   ]
  }
 ],
 "metadata": {
  "kernelspec": {
   "display_name": "Python 3",
   "language": "python",
   "name": "python3"
  },
  "language_info": {
   "codemirror_mode": {
    "name": "ipython",
    "version": 3
   },
   "file_extension": ".py",
   "mimetype": "text/x-python",
   "name": "python",
   "nbconvert_exporter": "python",
   "pygments_lexer": "ipython3",
   "version": "3.11.8"
  }
 },
 "nbformat": 4,
 "nbformat_minor": 2
}
