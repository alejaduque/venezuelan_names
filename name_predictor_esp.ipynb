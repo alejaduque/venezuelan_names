{
 "cells": [
  {
   "cell_type": "code",
   "execution_count": 1,
   "metadata": {},
   "outputs": [
    {
     "name": "stderr",
     "output_type": "stream",
     "text": [
      "C:\\Users\\aleja\\AppData\\Local\\Temp\\ipykernel_16228\\2603796560.py:5: DeprecationWarning: \n",
      "Pyarrow will become a required dependency of pandas in the next major release of pandas (pandas 3.0),\n",
      "(to allow more performant data types, such as the Arrow string type, and better interoperability with other libraries)\n",
      "but was not found to be installed on your system.\n",
      "If this would cause problems for you,\n",
      "please provide us feedback at https://github.com/pandas-dev/pandas/issues/54466\n",
      "        \n",
      "  import pandas as pd\n"
     ]
    }
   ],
   "source": [
    "import torch #for building nn and manipulate tensors\n",
    "import torch.nn.functional as F\n",
    "import matplotlib.pyplot as plt # for making figures\n",
    "import random #for shuffling values \n",
    "import pandas as pd \n",
    "from torcheval.metrics.text import Perplexity\n",
    "import torchmetrics #calculate evaluation metrics \n",
    "%matplotlib inline"
   ]
  },
  {
   "cell_type": "code",
   "execution_count": 2,
   "metadata": {},
   "outputs": [
    {
     "name": "stdout",
     "output_type": "stream",
     "text": [
      "Number of names in dataset:334\n"
     ]
    }
   ],
   "source": [
    "#Read words in our SPANISH dataset \n",
    "names= open('corpus/raw_name_list.txt', 'r', encoding='utf-8').read().lower().splitlines()\n",
    "print(f'Number of names in dataset:{len(names)}')"
   ]
  },
  {
   "cell_type": "code",
   "execution_count": 3,
   "metadata": {},
   "outputs": [
    {
     "name": "stdout",
     "output_type": "stream",
     "text": [
      "{1: ' ', 2: 'a', 3: 'b', 4: 'c', 5: 'd', 6: 'e', 7: 'f', 8: 'g', 9: 'h', 10: 'i', 11: 'j', 12: 'k', 13: 'l', 14: 'm', 15: 'n', 16: 'o', 17: 'p', 18: 'q', 19: 'r', 20: 's', 21: 't', 22: 'u', 23: 'v', 24: 'x', 25: 'y', 26: 'z', 27: 'ñ', 0: '.'}\n",
      "Lenght of vocabulary: 28\n"
     ]
    }
   ],
   "source": [
    "#Building vocabulary \n",
    "chars = sorted(list(set(''.join(names))))\n",
    "stoi = {s:i+1 for i,s in enumerate(chars)}\n",
    "stoi['.'] = 0 #add dot at position 0 for building block size \n",
    "itos = {i:s for s,i in stoi.items()}\n",
    "len_vocab= len(itos)\n",
    "print(itos)\n",
    "print(f'Lenght of vocabulary: {len_vocab}')"
   ]
  },
  {
   "cell_type": "code",
   "execution_count": 4,
   "metadata": {},
   "outputs": [
    {
     "name": "stdout",
     "output_type": "stream",
     "text": [
      "torch.Size([2044, 4]) torch.Size([2044])\n",
      "torch.Size([258, 4]) torch.Size([258])\n",
      "torch.Size([272, 4]) torch.Size([272])\n"
     ]
    }
   ],
   "source": [
    "# Build the dataset\n",
    "\n",
    "block_size = 4 # context length: how many characters do we take to predict the next one?\n",
    "\n",
    "def build_dataset(words):  \n",
    "  X, Y = [], [] #X are the values, Y are the labels \n",
    "  for w in words:\n",
    "\n",
    "    #print(w)\n",
    "    context = [0] * block_size\n",
    "    for ch in w + '.':\n",
    "      ix = stoi[ch]\n",
    "      X.append(context)\n",
    "      Y.append(ix)\n",
    "      #print(''.join(itos[i] for i in context), '--->', itos[ix])\n",
    "      context = context[1:] + [ix] # crop and append\n",
    "\n",
    "  X = torch.tensor(X)\n",
    "  Y = torch.tensor(Y)\n",
    "  print(X.shape, Y.shape)\n",
    "  return X, Y\n",
    "\n",
    "random.seed(42)\n",
    "random.shuffle(names) #shuffles names in dataset \n",
    "\n",
    "#Train/validation/test \n",
    "n1 = int(0.8*len(names)) \n",
    "n2 = int(0.9*len(names))\n",
    "\n",
    "Xtr, Ytr = build_dataset(names[:n1]) #training split. 80%. \n",
    "Xdev, Ydev = build_dataset(names[n1:n2]) #validation split. 10% \n",
    "Xte, Yte = build_dataset(names[n2:]) #test split. 10%"
   ]
  },
  {
   "cell_type": "code",
   "execution_count": 5,
   "metadata": {},
   "outputs": [
    {
     "data": {
      "text/plain": [
       "(torch.Size([2044, 4]), torch.int64, torch.Size([2044]), torch.int64)"
      ]
     },
     "execution_count": 5,
     "metadata": {},
     "output_type": "execute_result"
    }
   ],
   "source": [
    "#Shape of training split (X and Y)\n",
    "Xtr.shape, Xtr.dtype, Ytr.shape, Ytr.dtype"
   ]
  },
  {
   "cell_type": "code",
   "execution_count": 6,
   "metadata": {},
   "outputs": [],
   "source": [
    "#Setting number of neurons\n",
    "neurons= 250"
   ]
  },
  {
   "cell_type": "code",
   "execution_count": 7,
   "metadata": {},
   "outputs": [],
   "source": [
    "#Building of NN \n",
    "g = torch.Generator().manual_seed(2147483647) # for reproducibility\n",
    "dim_embedding = 10 #dimensions of embedding \n",
    "\n",
    "C = torch.randn((len_vocab, dim_embedding), generator=g) #Look-up table C\n",
    "W1 = torch.randn((dim_embedding*block_size, neurons), generator=g) #hidden layer. Random initialized weights. 6 because 3x2. 100 variable.\n",
    "b1 = torch.randn(neurons, generator=g) #bias \n",
    "W2 = torch.randn((neurons, len_vocab), generator=g) #softmax function (outputs)\n",
    "b2 = torch.randn(len_vocab, generator=g)\n",
    "parameters = [C, W1, b1, W2, b2]\n",
    "for p in parameters:\n",
    "    p.requires_grad = True #states that gradients have to be computed for each parameter "
   ]
  },
  {
   "cell_type": "code",
   "execution_count": 8,
   "metadata": {},
   "outputs": [
    {
     "data": {
      "text/plain": [
       "17558"
      ]
     },
     "execution_count": 8,
     "metadata": {},
     "output_type": "execute_result"
    }
   ],
   "source": [
    "# Number of parameters in total\n",
    "sum(p.nelement() for p in parameters) "
   ]
  },
  {
   "cell_type": "code",
   "execution_count": 9,
   "metadata": {},
   "outputs": [],
   "source": [
    "#Keeping track of learning rate and loss \n",
    "lri= []\n",
    "lossi=[]\n",
    "stepi=[]\n",
    "loss_val = []\n",
    "\n",
    "for i in range(60000):\n",
    "  \n",
    "  # minibatch construct\n",
    "  ix = torch.randint(0, Xtr.shape[0], (60,))\n",
    "  \n",
    "  # forward pass\n",
    "  emb = C[Xtr[ix]] \n",
    "  h = torch.tanh(emb.view(-1, block_size*dim_embedding) @ W1 + b1) \n",
    "  logits = h @ W2 + b2 \n",
    "  loss = F.cross_entropy(logits, Ytr[ix])\n",
    "  #print(loss.item())\n",
    "  \n",
    "  # backward pass\n",
    "  for p in parameters:\n",
    "    p.grad = None\n",
    "  loss.backward()\n",
    "  \n",
    "  # update\n",
    "  lr = 0.1 if i < 100000 else 0.01\n",
    "  for p in parameters:\n",
    "    p.data += -lr * p.grad\n",
    "\n",
    "  # track stats\n",
    "  stepi.append(i)\n",
    "  lossi.append(loss.log10().item())\n",
    "\n",
    "  emb_val = C[Xdev]\n",
    "  h = torch.tanh(emb_val.view(-1, block_size*dim_embedding) @ W1 + b1) \n",
    "  logits = h @ W2 + b2\n",
    "  loss = F.cross_entropy(logits, Ydev)\n",
    "  loss_val.append(loss.log10().item())\n",
    "\n",
    "#print(loss.item())"
   ]
  },
  {
   "cell_type": "code",
   "execution_count": 10,
   "metadata": {},
   "outputs": [
    {
     "data": {
      "image/png": "[encoded data removed]",
      "text/plain": [
       "<Figure size 640x480 with 1 Axes>"
      ]
     },
     "metadata": {},
     "output_type": "display_data"
    }
   ],
   "source": [
    "#Plotting loss of traning and validation curves \n",
    "plt.semilogx(stepi, lossi)\n",
    "plt.semilogx(stepi, loss_val)\n",
    "plt.show()\n",
    "\n",
    "iters_opt = torch.argmin(torch.tensor(loss_val))"
   ]
  },
  {
   "cell_type": "code",
   "execution_count": 11,
   "metadata": {},
   "outputs": [],
   "source": [
    "#NN with optimized number of iterations \n",
    "\n",
    "C = torch.randn((len_vocab, dim_embedding), generator=g) \n",
    "W1 = torch.randn((dim_embedding*block_size, neurons), generator=g) #hidden layer. Random initialized weights. 6 because 3x2. 100 variable.\n",
    "b1 = torch.randn(neurons, generator=g) #bias \n",
    "W2 = torch.randn((neurons, len_vocab), generator=g) #softmax function (outputs)\n",
    "b2 = torch.randn(len_vocab, generator=g)\n",
    "parameters = [C, W1, b1, W2, b2]\n",
    "for p in parameters:\n",
    "    p.requires_grad = True\n",
    "\n",
    "for i in range(iters_opt):\n",
    "  \n",
    "  # minibatch construct\n",
    "  ix = torch.randint(0, Xtr.shape[0], (60,))\n",
    "  \n",
    "  # forward pass\n",
    "  emb = C[Xtr[ix]] \n",
    "  h = torch.tanh(emb.view(-1, dim_embedding*block_size) @ W1 + b1) \n",
    "  logits = h @ W2 + b2 \n",
    "  loss = F.cross_entropy(logits, Ytr[ix])\n",
    "  #print(loss.item())\n",
    "  \n",
    "  # backward pass\n",
    "  for p in parameters:\n",
    "    p.grad = None\n",
    "  loss.backward()\n",
    "  \n",
    "  # update\n",
    "  #lr = lrs[i]\n",
    "  lr = 0.1 if i < 100000 else 0.01\n",
    "  for p in parameters:\n",
    "    p.data += -lr * p.grad"
   ]
  },
  {
   "cell_type": "code",
   "execution_count": 12,
   "metadata": {},
   "outputs": [
    {
     "data": {
      "image/png": "[encoded data removed]",
      "text/plain": [
       "<Figure size 800x800 with 1 Axes>"
      ]
     },
     "metadata": {},
     "output_type": "display_data"
    }
   ],
   "source": [
    "# visualize dimensions 0 and 1 of the embedding matrix C for all characters\n",
    "plt.figure(figsize=(8,8))\n",
    "plt.scatter(C[:,0].data, C[:,1].data, s=200)\n",
    "for i in range(C.shape[0]):\n",
    "    plt.text(C[i,0].item(), C[i,1].item(), itos[i], ha=\"center\", va=\"center\", color='white')\n",
    "plt.grid('minor')"
   ]
  },
  {
   "cell_type": "code",
   "execution_count": 13,
   "metadata": {},
   "outputs": [
    {
     "name": "stdout",
     "output_type": "stream",
     "text": [
      "Loss of our dataset:3.711229085922241\n",
      "Perplexity: 40.904048919677734\n"
     ]
    }
   ],
   "source": [
    "#Testing \n",
    "emb_tes = C[Xte] #([272, 4, 10])\n",
    "h = torch.tanh(emb_tes.view(-1, block_size*dim_embedding) @ W1 + b1) # ([272, 250])\n",
    "logits = h @ W2 + b2 #([272, 28])\n",
    "\n",
    "\n",
    "#Cross-entropy \n",
    "import torch\n",
    "loss = F.cross_entropy(logits, Yte)\n",
    "print(f'Loss of our dataset:{loss.item()}')\n",
    "\n",
    "#Perplexity \n",
    "# Reshape logits to add a dummy dimension for seq_len\n",
    "logits = logits.unsqueeze(1)  # Shape will become [272, 1, 28]\n",
    "\n",
    "# Calculate perplexity\n",
    "perplexity = torch.exp(loss)\n",
    "print(f\"Perplexity: {perplexity.item()}\")"
   ]
  },
  {
   "cell_type": "code",
   "execution_count": 14,
   "metadata": {},
   "outputs": [
    {
     "name": "stdout",
     "output_type": "stream",
     "text": [
      "marco.\n",
      "maria dolorena.\n",
      "anmal.\n",
      "margarita.\n",
      "daniel.\n",
      "emilia.\n",
      "rocio.\n",
      "omar.\n",
      "jose ignacio.\n",
      "manuela.\n",
      "amparo.\n",
      "inmaculada.\n",
      "mar.\n",
      "aitor.\n",
      "fatima.\n",
      "hectoria.\n",
      "hugo.\n",
      "sofia.\n",
      "celia.\n",
      "samuel.\n",
      "iiei.\n",
      "pilar.\n",
      "maria pilar.\n",
      "maria nieves.\n",
      "alejandrea.\n",
      "eugenia.\n",
      "marco.\n",
      "encarnacio.\n",
      "inmaculada.\n",
      "ignacio.\n",
      "catalina.\n",
      "lucas.\n",
      "antonia.\n",
      "samuel.\n",
      "concepcion.\n",
      "sebastian.\n",
      "esinikcamnnclxnarrda.\n",
      "teresa.\n",
      "maria mercedes.\n",
      "xavier.\n",
      "anmal.\n",
      "alexander.\n",
      "monica.\n",
      "sandra.\n",
      "ricaela.\n",
      "ignacio.\n",
      "lucas.\n",
      "domingo.\n",
      "marco.\n",
      "encarnacio.\n",
      "miriam.\n",
      "marcos.\n",
      "esinenando.\n",
      "mercedes.\n",
      "josep.\n",
      "lucas.\n",
      "maria cristina.\n",
      "elen.\n",
      "maria.\n",
      "maria antonia.\n",
      "beatriz.\n",
      "alex.\n",
      "monica.\n",
      "eva.\n",
      "nerea.\n",
      "veronica.\n",
      "adriana.\n",
      "ismael.\n",
      "margarita.\n",
      "veronica.\n",
      "maria carmen.\n",
      "mar.\n",
      "mariano.\n",
      "sonia.\n",
      "ana.\n",
      "carmobep.\n",
      "miguel.\n",
      "calonanvrxdaanyoflaado.\n",
      "santiago.\n",
      "cristin.\n",
      "valeria.\n",
      "gema.\n",
      "juan fria.\n",
      "encarnacio.\n",
      "encarnacio.\n",
      "eugenio.\n",
      "patriseñcolmlel.\n",
      "martina.\n",
      "ana.\n",
      "laura.\n",
      "fernando.\n",
      "gonzalo.\n",
      "jose angeles.\n",
      "gonzalo.\n",
      "omar.\n",
      "vicente.\n",
      "jordi.\n",
      "david.\n",
      "diana.\n",
      "eugenio.\n",
      "aitor.\n",
      "albafaqin.\n",
      "laura.\n",
      "miriam.\n",
      "sara.\n",
      "maria.\n",
      "ramon.\n",
      "emilia.\n",
      "eugenia.\n",
      "luis.\n",
      "martina.\n",
      "miriam.\n",
      "mirioueba.\n",
      "maria.\n",
      "alexander.\n",
      "ana inirg.\n",
      "fatima.\n",
      "rosa maria pilar.\n",
      "patriz.\n",
      "maria jesus.\n",
      "eva.\n",
      "eugenio.\n",
      "jose ramon.\n",
      "belen.\n",
      "felipe.\n",
      "fernando.\n",
      "ismael.\n",
      "martina.\n",
      "marcos.\n",
      "elen.\n",
      "maria dolorenartina.\n",
      "esther.\n",
      "silvia.\n",
      "maria ciptoc.\n",
      "guillermo.\n",
      "fatima.\n",
      "esther.\n",
      "montserrat.\n",
      "maria carmen.\n",
      "jesus.\n",
      "monica.\n",
      "xavier.\n",
      "alicia.\n",
      "emilia.\n",
      "ricardo.\n",
      "ana isabeltoares.\n",
      "pilar.\n",
      "martina.\n",
      "carla.\n",
      "veronica.\n",
      "juanamadl.\n",
      "eugenio.\n",
      "sofia.\n",
      "andrea.\n",
      "iiei.\n",
      "mateo.\n",
      "amparo.\n",
      "eva.\n",
      "maria jose ramon.\n",
      "mercedes.\n",
      "inmacuicnlercuiql.\n",
      "manuel.\n",
      "maria cristina.\n",
      "inmaculada.\n",
      "manuel.\n",
      "maria pilar.\n",
      "gonzalo.\n",
      "eugenio.\n",
      "maria nieves.\n",
      "rocio.\n",
      "raul.\n",
      "lidia.\n",
      "maria elen.\n",
      "jose.\n",
      "alexander.\n",
      "maria carmen.\n",
      "eric.\n",
      "miriam.\n",
      "natalina.\n",
      "miriam.\n",
      "diego.\n",
      "ramon.\n",
      "noelia.\n",
      "maria antpanza.\n",
      "martina.\n",
      "marco.\n",
      "maria dolorena.\n",
      "iker.\n",
      "martin.\n",
      "emilia.\n",
      "emilia.\n",
      "mariano.\n",
      "margarita.\n",
      "emilia.\n",
      "xavier.\n",
      "julia.\n",
      "celia.\n",
      "natalia.\n",
      "ana isabel.\n",
      "maria carmen.\n"
     ]
    }
   ],
   "source": [
    "# sample from the model\n",
    "g = torch.Generator().manual_seed(2147048347 + 10)\n",
    "generated_names_list=[]\n",
    "for _ in range(200):\n",
    "    \n",
    "    out = []\n",
    "    context = [0] * block_size # initialize with all ...\n",
    "    while True:\n",
    "      emb = C[torch.tensor([context])] # (1,block_size,d)\n",
    "      h = torch.tanh(emb.view(1, -1) @ W1 + b1)\n",
    "      logits = h @ W2 + b2\n",
    "      probs = F.softmax(logits, dim=1)\n",
    "      ix = torch.multinomial(probs, num_samples=1, generator=g).item()\n",
    "      context = context[1:] + [ix]\n",
    "      out.append(ix)\n",
    "      if ix == 0:\n",
    "        break\n",
    "    \n",
    "    generated_names= ''.join(itos[i] for i in out)\n",
    "    generated_names_list.append(generated_names)\n",
    "    print(generated_names)\n",
    "  "
   ]
  },
  {
   "cell_type": "code",
   "execution_count": 15,
   "metadata": {},
   "outputs": [],
   "source": [
    "#Cleans unwanted characters (i.e. '.')\n",
    "def output_cleaning(list_of_names):\n",
    "    final= []\n",
    "    for i in list_of_names:\n",
    "        if i.endswith('.'): \n",
    "            name_only= i[:-1]  # deletes final '.'\n",
    "            final.append(name_only)\n",
    "        else:\n",
    "            final.append(i)  # appends original name \n",
    "    return final"
   ]
  },
  {
   "cell_type": "code",
   "execution_count": 16,
   "metadata": {},
   "outputs": [
    {
     "name": "stdout",
     "output_type": "stream",
     "text": [
      "Number of original names:37\n",
      "['maria dolorena', 'anmal', 'hectoria', 'iiei', 'alejandrea', 'encarnacio', 'esinikcamnnclxnarrda', 'anmal', 'ricaela', 'encarnacio', 'esinenando', 'elen', 'carmobep', 'calonanvrxdaanyoflaado', 'cristin', 'juan fria', 'encarnacio', 'encarnacio', 'patriseñcolmlel', 'jose angeles', 'albafaqin', 'mirioueba', 'ana inirg', 'rosa maria pilar', 'patriz', 'elen', 'maria dolorenartina', 'maria ciptoc', 'ana isabeltoares', 'juanamadl', 'iiei', 'maria jose ramon', 'inmacuicnlercuiql', 'maria elen', 'natalina', 'maria antpanza', 'maria dolorena']\n"
     ]
    }
   ],
   "source": [
    "#Original names only \n",
    "generated_names_list= output_cleaning(generated_names_list)\n",
    "original_names= [n for n in generated_names_list if n not in names]\n",
    "print(f'Number of original names:{len(original_names)}')\n",
    "print(original_names)\n"
   ]
  },
  {
   "cell_type": "code",
   "execution_count": 17,
   "metadata": {},
   "outputs": [],
   "source": [
    "#For human-evaluation. Uncomment if you want to generate a new list.\n",
    "\n",
    "dict= {\"names\": original_names}  \n",
    "df= pd.DataFrame(dict) # opens csv with names\n",
    "df.to_csv('human_evaluation/generated_names_esp.csv')\n"
   ]
  },
  {
   "cell_type": "code",
   "execution_count": 3,
   "metadata": {},
   "outputs": [
    {
     "name": "stdout",
     "output_type": "stream",
     "text": [
      "['encarnacio', 'ricaela', 'encarnacio', 'elen', 'cristin', 'juan fria', 'encarnacio', 'encarnacio', 'jose angeles', 'rosa maria pilar', 'patriz', 'elen', 'maria elen', 'natalina']\n",
      "Rate of acceptable names: 0.3783783783783784\n"
     ]
    }
   ],
   "source": [
    "#Human-evaluation results \n",
    "\n",
    "review= pd.read_csv('human_evaluation/generated_names_esp_reviewed.csv') #read csv with reviewed data\n",
    "acceptable_names= [i[1] for i in review.values if i[2]==1] #takes all accepted names, labelled with 1.\n",
    "\n",
    "print(acceptable_names)\n",
    "\n",
    "print('Rate of acceptable names:', len(acceptable_names) / len(review))"
   ]
  }
 ],
 "metadata": {
  "kernelspec": {
   "display_name": "name_of_my_env",
   "language": "python",
   "name": "python3"
  },
  "language_info": {
   "codemirror_mode": {
    "name": "ipython",
    "version": 3
   },
   "file_extension": ".py",
   "mimetype": "text/x-python",
   "name": "python",
   "nbconvert_exporter": "python",
   "pygments_lexer": "ipython3",
   "version": "3.11.8"
  }
 },
 "nbformat": 4,
 "nbformat_minor": 2
}
