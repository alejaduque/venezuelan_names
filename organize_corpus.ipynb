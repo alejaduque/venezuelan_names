{
 "cells": [
  {
   "cell_type": "code",
   "execution_count": 7,
   "metadata": {},
   "outputs": [],
   "source": [
    "#for organizing/cleaning corpus\n",
    "def corpus_organizer(name_of_file): \n",
    "    import re\n",
    "    all_names = set()  # Ensures unique names\n",
    "    with open(name_of_file, 'r', encoding='utf-8') as file:\n",
    "        for line in file:\n",
    "            line = line.strip()  # Remove leading/trailing whitespace\n",
    "            if not re.search(r\"[,]\", line):  # Check if the line doesn't contain commas\n",
    "                all_names.add(line)\n",
    "    all_names= [w.lower() for w in all_names]\n",
    "    return sorted(set(all_names))\n",
    "\n",
    "# Writing file\n",
    "\n",
    "def write_file(name_of_file, list_with_names, path= 'corpus/'):\n",
    "    f= open(path + name_of_file, 'a', encoding='utf-8')\n",
    "    for w in list_with_names:\n",
    "        f.write(w + \"\\n\")\n",
    "    f.close()\n",
    "\n"
   ]
  },
  {
   "cell_type": "code",
   "execution_count": 8,
   "metadata": {},
   "outputs": [],
   "source": [
    "simple_names= corpus_organizer('name_collection/simple_names_venezuela.txt')\n",
    "compound_names= corpus_organizer('name_collection/compound_names_venezuela.txt')\n",
    "unique_names= corpus_organizer('name_collection/unique_names_venezuela.txt')"
   ]
  },
  {
   "cell_type": "code",
   "execution_count": 9,
   "metadata": {},
   "outputs": [
    {
     "name": "stdout",
     "output_type": "stream",
     "text": [
      "Simple names collected: 92\n",
      "Compound names collected: 71\n",
      "Unique names collected: 107\n"
     ]
    }
   ],
   "source": [
    "print('Simple names collected:', len(simple_names))\n",
    "print('Compound names collected:', len(compound_names))\n",
    "print('Unique names collected:', len(unique_names))"
   ]
  },
  {
   "cell_type": "code",
   "execution_count": 10,
   "metadata": {},
   "outputs": [
    {
     "name": "stdout",
     "output_type": "stream",
     "text": [
      "Lenght of final list:268\n"
     ]
    }
   ],
   "source": [
    "full_list= list(set(sorted(simple_names + compound_names + unique_names)))\n",
    "print(f'Lenght of final list:{len(full_list)}')"
   ]
  },
  {
   "cell_type": "code",
   "execution_count": 11,
   "metadata": {},
   "outputs": [],
   "source": [
    "write_file(\"name_list_vzl.txt\", full_list)"
   ]
  }
 ],
 "metadata": {
  "kernelspec": {
   "display_name": "name_of_my_env",
   "language": "python",
   "name": "python3"
  },
  "language_info": {
   "codemirror_mode": {
    "name": "ipython",
    "version": 3
   },
   "file_extension": ".py",
   "mimetype": "text/x-python",
   "name": "python",
   "nbconvert_exporter": "python",
   "pygments_lexer": "ipython3",
   "version": "3.11.8"
  }
 },
 "nbformat": 4,
 "nbformat_minor": 2
}
