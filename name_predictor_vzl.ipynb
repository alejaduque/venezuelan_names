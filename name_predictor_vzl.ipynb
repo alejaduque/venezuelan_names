{
 "cells": [
  {
   "cell_type": "code",
   "execution_count": 1,
   "metadata": {},
   "outputs": [
    {
     "name": "stderr",
     "output_type": "stream",
     "text": [
      "C:\\Users\\aleja\\AppData\\Local\\Temp\\ipykernel_12248\\1329027090.py:6: DeprecationWarning: \n",
      "Pyarrow will become a required dependency of pandas in the next major release of pandas (pandas 3.0),\n",
      "(to allow more performant data types, such as the Arrow string type, and better interoperability with other libraries)\n",
      "but was not found to be installed on your system.\n",
      "If this would cause problems for you,\n",
      "please provide us feedback at https://github.com/pandas-dev/pandas/issues/54466\n",
      "        \n",
      "  import pandas as pd\n"
     ]
    }
   ],
   "source": [
    "import torch #for building nn and manipulate tensors\n",
    "import torch.nn.functional as F\n",
    "import matplotlib.pyplot as plt # for making figures\n",
    "import random #for shuffling values \n",
    "import torchmetrics #calculate evaluation metrics \n",
    "import pandas as pd\n",
    "%matplotlib inline"
   ]
  },
  {
   "cell_type": "code",
   "execution_count": 2,
   "metadata": {},
   "outputs": [
    {
     "name": "stdout",
     "output_type": "stream",
     "text": [
      "Number of names in dataset:268\n"
     ]
    }
   ],
   "source": [
    "#Read words in our VENEZUELAN dataset\n",
    "names= open('corpus/name_list_vzl.txt', 'r', encoding='utf-8').read().lower().splitlines()\n",
    "print(f'Number of names in dataset:{len(names)}')"
   ]
  },
  {
   "cell_type": "code",
   "execution_count": 3,
   "metadata": {},
   "outputs": [
    {
     "name": "stdout",
     "output_type": "stream",
     "text": [
      "{1: ' ', 2: 'a', 3: 'b', 4: 'c', 5: 'd', 6: 'e', 7: 'f', 8: 'g', 9: 'h', 10: 'i', 11: 'j', 12: 'k', 13: 'l', 14: 'm', 15: 'n', 16: 'o', 17: 'p', 18: 'q', 19: 'r', 20: 's', 21: 't', 22: 'u', 23: 'v', 24: 'w', 25: 'x', 26: 'y', 27: 'z', 28: 'é', 29: 'í', 30: 'ó', 31: 'ú', 0: '.'}\n",
      "Lenght of vocabulary: 32\n"
     ]
    }
   ],
   "source": [
    "#Building vocabulary \n",
    "chars = sorted(list(set(''.join(names)))) \n",
    "stoi = {s:i+1 for i,s in enumerate(chars)}\n",
    "stoi['.'] = 0 #adds dot in position 0 for building block size \n",
    "itos = {i:s for s,i in stoi.items()} \n",
    "len_vocab= len(itos)\n",
    "print(itos)\n",
    "print(f'Lenght of vocabulary: {len_vocab}') "
   ]
  },
  {
   "cell_type": "code",
   "execution_count": 4,
   "metadata": {},
   "outputs": [
    {
     "name": "stdout",
     "output_type": "stream",
     "text": [
      "torch.Size([1970, 3]) torch.Size([1970])\n",
      "torch.Size([245, 3]) torch.Size([245])\n",
      "torch.Size([241, 3]) torch.Size([241])\n"
     ]
    }
   ],
   "source": [
    "# Build the dataset\n",
    "\n",
    "block_size = 3 # context length: how many characters do we take to predict the next one?\n",
    "\n",
    "def build_dataset(words):  \n",
    "  X, Y = [], [] #X are the values, Y are the labels \n",
    "  for w in words:\n",
    "\n",
    "    #print(w)\n",
    "    context = [0] * block_size\n",
    "    for ch in w + '.':\n",
    "      ix = stoi[ch]\n",
    "      X.append(context)\n",
    "      Y.append(ix)\n",
    "      #print(''.join(itos[i] for i in context), '--->', itos[ix])\n",
    "      context = context[1:] + [ix] # crop and append\n",
    "\n",
    "  X = torch.tensor(X)\n",
    "  Y = torch.tensor(Y)\n",
    "  print(X.shape, Y.shape)\n",
    "  return X, Y\n",
    "\n",
    "random.seed(42)\n",
    "random.shuffle(names) #shuffles names in dataset \n",
    "\n",
    "\n",
    "#Train/validation/test \n",
    "n1 = int(0.8*len(names)) \n",
    "n2 = int(0.9*len(names))\n",
    "\n",
    "Xtr, Ytr = build_dataset(names[:n1]) #training split. 80%.\n",
    "Xdev, Ydev = build_dataset(names[n1:n2]) #validation split. 10%. \n",
    "Xte, Yte = build_dataset(names[n2:]) #test split. 10%. "
   ]
  },
  {
   "cell_type": "code",
   "execution_count": 5,
   "metadata": {},
   "outputs": [
    {
     "data": {
      "text/plain": [
       "(torch.Size([1970, 3]), torch.int64, torch.Size([1970]), torch.int64)"
      ]
     },
     "execution_count": 5,
     "metadata": {},
     "output_type": "execute_result"
    }
   ],
   "source": [
    "#Shape of training split (X and Y)\n",
    "Xtr.shape, Xtr.dtype, Ytr.shape, Ytr.dtype"
   ]
  },
  {
   "cell_type": "code",
   "execution_count": 6,
   "metadata": {},
   "outputs": [],
   "source": [
    "#Setting number of neurons\n",
    "neurons= 400"
   ]
  },
  {
   "cell_type": "code",
   "execution_count": 7,
   "metadata": {},
   "outputs": [],
   "source": [
    "#Building of NN \n",
    "g = torch.Generator().manual_seed(2147483647) # for reproducibility\n",
    "dim_embedding = 10 #dimensions of embedding \n",
    "\n",
    "C = torch.randn((len_vocab, dim_embedding), generator=g) #Look-up table C \n",
    "W1 = torch.randn((dim_embedding*block_size, neurons), generator=g) #hidden layer. Random initialized weights. 6 because 3x2. 100 variable.\n",
    "b1 = torch.randn(neurons, generator=g) #bias \n",
    "W2 = torch.randn((neurons, len_vocab), generator=g) #softmax function (outputs)\n",
    "b2 = torch.randn(len_vocab, generator=g)\n",
    "parameters = [C, W1, b1, W2, b2]\n",
    "for p in parameters:\n",
    "    p.requires_grad = True #states that gradients have to be computed for each parameter "
   ]
  },
  {
   "cell_type": "code",
   "execution_count": 8,
   "metadata": {},
   "outputs": [
    {
     "data": {
      "text/plain": [
       "25552"
      ]
     },
     "execution_count": 8,
     "metadata": {},
     "output_type": "execute_result"
    }
   ],
   "source": [
    "# Number of parameters in total\n",
    "sum(p.nelement() for p in parameters) "
   ]
  },
  {
   "cell_type": "code",
   "execution_count": 9,
   "metadata": {},
   "outputs": [],
   "source": [
    "#Keeping track of learning rate and loss \n",
    "\n",
    "lri= []\n",
    "lossi=[]\n",
    "stepi=[]\n",
    "loss_val= []\n",
    "\n",
    "for i in range(60000):\n",
    "  \n",
    "  # minibatch construct\n",
    "  ix = torch.randint(0, Xtr.shape[0], (60,))\n",
    "  \n",
    "  # forward pass\n",
    "  emb = C[Xtr[ix]] # (32, 3, 10)\n",
    "  h = torch.tanh(emb.view(-1, block_size*dim_embedding) @ W1 + b1) # (32, 200)\n",
    "  logits = h @ W2 + b2 # (32, 27)\n",
    "  loss = F.cross_entropy(logits, Ytr[ix])\n",
    "  #print(loss.item())\n",
    "  \n",
    "  # backward pass\n",
    "  for p in parameters:\n",
    "    p.grad = None\n",
    "  loss.backward()\n",
    "  \n",
    "  # update\n",
    "  #lr = lrs[i]\n",
    "  lr = 0.1 if i < 100000 else 0.01\n",
    "  for p in parameters:\n",
    "    p.data += -lr * p.grad\n",
    "\n",
    "  # track stats\n",
    "  stepi.append(i)\n",
    "  lossi.append(loss.log10().item())\n",
    "\n",
    "  emb_val = C[Xdev]\n",
    "  h = torch.tanh(emb_val.view(-1, block_size*dim_embedding) @ W1 + b1) \n",
    "  logits = h @ W2 + b2 \n",
    "  loss = F.cross_entropy(logits, Ydev)\n",
    "  loss_val.append(loss.log10().item())\n",
    "\n",
    "#print(loss.item())"
   ]
  },
  {
   "cell_type": "code",
   "execution_count": 10,
   "metadata": {},
   "outputs": [
    {
     "data": {
      "image/png": "[encoded data removed]",
      "text/plain": [
       "<Figure size 640x480 with 1 Axes>"
      ]
     },
     "metadata": {},
     "output_type": "display_data"
    }
   ],
   "source": [
    "#Plotting loss of traning and validation curves \n",
    "plt.semilogx(stepi, lossi)\n",
    "plt.semilogx(stepi, loss_val)\n",
    "plt.show()\n",
    "\n",
    "iters_opt = torch.argmin(torch.tensor(loss_val))"
   ]
  },
  {
   "cell_type": "code",
   "execution_count": 11,
   "metadata": {},
   "outputs": [],
   "source": [
    "#NN with optimized number of iterations \n",
    "\n",
    "C = torch.randn((len_vocab, dim_embedding), generator=g) \n",
    "W1 = torch.randn((dim_embedding*block_size, neurons), generator=g) #hidden layer. Random initialized weights. 6 because 3x2. 100 variable.\n",
    "b1 = torch.randn(neurons, generator=g) #bias \n",
    "W2 = torch.randn((neurons, len_vocab), generator=g) #softmax function (outputs)\n",
    "b2 = torch.randn(len_vocab, generator=g)\n",
    "parameters = [C, W1, b1, W2, b2]\n",
    "for p in parameters:\n",
    "    p.requires_grad = True\n",
    "\n",
    "for i in range(iters_opt):\n",
    "  \n",
    "  # minibatch construct\n",
    "  ix = torch.randint(0, Xtr.shape[0], (60,))\n",
    "  \n",
    "  # forward pass\n",
    "  emb = C[Xtr[ix]] # (32, 3, 10)\n",
    "  h = torch.tanh(emb.view(-1, dim_embedding*block_size) @ W1 + b1) # (32, 200)\n",
    "  logits = h @ W2 + b2 # (32, 27)\n",
    "  loss = F.cross_entropy(logits, Ytr[ix])\n",
    "  #print(loss.item())\n",
    "  \n",
    "  # backward pass\n",
    "  for p in parameters:\n",
    "    p.grad = None\n",
    "  loss.backward()\n",
    "  \n",
    "  # update\n",
    "  #lr = lrs[i]\n",
    "  lr = 0.1 if i < 100000 else 0.01\n",
    "  for p in parameters:\n",
    "    p.data += -lr * p.grad"
   ]
  },
  {
   "cell_type": "code",
   "execution_count": 12,
   "metadata": {},
   "outputs": [
    {
     "data": {
      "image/png": "[encoded data removed]",
      "text/plain": [
       "<Figure size 800x800 with 1 Axes>"
      ]
     },
     "metadata": {},
     "output_type": "display_data"
    }
   ],
   "source": [
    "# visualize dimensions 0 and 1 of the embedding matrix C for all characters\n",
    "plt.figure(figsize=(8,8))\n",
    "plt.scatter(C[:,0].data, C[:,1].data, s=200)\n",
    "for i in range(C.shape[0]):\n",
    "    plt.text(C[i,0].item(), C[i,1].item(), itos[i], ha=\"center\", va=\"center\", color='white')\n",
    "plt.grid('minor')"
   ]
  },
  {
   "cell_type": "code",
   "execution_count": 13,
   "metadata": {},
   "outputs": [
    {
     "name": "stdout",
     "output_type": "stream",
     "text": [
      "Loss of our dataset:6.807147979736328\n",
      "Perplexity: 904.2880859375\n"
     ]
    }
   ],
   "source": [
    "#Testing \n",
    "emb_tes = C[Xte] #([272, 4, 10])\n",
    "h = torch.tanh(emb_tes.view(-1, block_size*dim_embedding) @ W1 + b1) # ([272, 250])\n",
    "logits = h @ W2 + b2 #([272, 28])\n",
    "\n",
    "\n",
    "#Cross-entropy \n",
    "loss = F.cross_entropy(logits, Yte)\n",
    "print(f'Loss of our dataset:{loss.item()}')\n",
    "\n",
    "#Perplexity \n",
    "# Reshape logits to add a dummy dimension for seq_len\n",
    "logits = logits.unsqueeze(1)  # Shape will become [272, 1, 28]\n",
    "\n",
    "# Calculate perplexity\n",
    "perplexity = torch.exp(loss)\n",
    "print(f\"Perplexity: {perplexity.item()}\")"
   ]
  },
  {
   "cell_type": "code",
   "execution_count": 14,
   "metadata": {},
   "outputs": [
    {
     "name": "stdout",
     "output_type": "stream",
     "text": [
      "maría valerian.\n",
      "nagorn.\n",
      "maria daniel.\n",
      "andres.\n",
      "warmore.\n",
      "romaliana.\n",
      "daniela.\n",
      "yohelo.\n",
      "gabriela.\n",
      "martha.\n",
      "mar.\n",
      "sherle.\n",
      "ana gración.\n",
      "ara.\n",
      "paola celenski.\n",
      "fabianeska.\n",
      "alejanda.\n",
      "yohel.\n",
      "ana.\n",
      "yordaniela.\n",
      "mariana.\n",
      "angela.\n",
      "ana.\n",
      "valeria ania.\n",
      "gabriela.\n",
      "maría valejandra.\n",
      "yeniret.\n",
      "ley.\n",
      "marian.\n",
      "annais.\n",
      "nagovith.\n",
      "oriana.\n",
      "ana.\n",
      "ana.\n",
      "jaimen.\n",
      "ana.\n",
      "ender.\n",
      "fabian.\n",
      "valejandra.\n",
      "dalexanda.\n",
      "maria.\n",
      "maría vales.\n",
      "laura.\n",
      "warmen.\n",
      "warmenessa.\n",
      "shirle.\n",
      "ver.\n",
      "any.\n",
      "antonia.\n",
      "fabiangela.\n",
      "maría valexandro david.\n",
      "ana.\n",
      "joonmaria.\n",
      "nica.\n",
      "maría andrés.\n",
      "yeniret.\n",
      "josé david.\n",
      "layla.\n",
      "jacque.\n",
      "josé andra.\n",
      "ana.\n",
      "yohel.\n",
      "gabrie.\n",
      "sara.\n",
      "yohel.\n",
      "jose.\n",
      "jovangela.\n",
      "mariana.\n",
      "nagorn.\n",
      "jovangel.\n",
      "sherim.\n",
      "ana.\n",
      "nagovith.\n",
      "oscar.\n",
      "fabiana.\n",
      "martha.\n",
      "carlos andrés.\n",
      "maria.\n",
      "ana.\n",
      "carla.\n",
      "gloria.\n",
      "yohel.\n",
      "dalentina.\n",
      "gabriel.\n",
      "valexandrés.\n",
      "yohel.\n",
      "arianessa.\n",
      "ana.\n",
      "elicia.\n",
      "ana.\n",
      "romali.\n",
      "ana.\n",
      "celes.\n",
      "jhoxeidy.\n",
      "sherle.\n",
      "xandra.\n",
      "sherim.\n",
      "araya.\n",
      "gabriela.\n",
      "warmos.\n",
      "ender.\n",
      "yohel.\n",
      "wan.\n",
      "fabiana mara.\n",
      "daniela.\n",
      "jaimeneska.\n",
      "yohelo.\n",
      "romalia.\n",
      "paolación.\n",
      "blekinyer.\n",
      "ana.\n",
      "warmen.\n",
      "ana.\n",
      "branchel.\n",
      "orian.\n",
      "sherle.\n",
      "valejandrés.\n",
      "ana.\n",
      "ana.\n",
      "branchel.\n",
      "ana.\n",
      "yohel.\n",
      "ana.\n",
      "ana.\n",
      "dania.\n",
      "jacque.\n",
      "jovangela.\n",
      "nagovith.\n",
      "elizabelualka.\n",
      "jesús.\n",
      "ara.\n",
      "mariana.\n",
      "fabian.\n",
      "yordaniela.\n",
      "ara.\n",
      "juan.\n",
      "josé manuel.\n",
      "andrés.\n",
      "zie.\n",
      "ana gabriela.\n",
      "marian.\n",
      "maría valeska.\n",
      "mar.\n",
      "ana.\n",
      "jose.\n",
      "john.\n",
      "nagorn.\n",
      "ana.\n",
      "juan.\n",
      "josé.\n",
      "jaimen.\n",
      "alberto.\n",
      "lady.\n",
      "paola sofia.\n",
      "maría gabriela.\n",
      "carla.\n",
      "mariania.\n",
      "josé.\n",
      "ana gabriela.\n",
      "daniel.\n",
      "fabianeisabelualkiriangel.\n",
      "josé martha.\n",
      "marian.\n",
      "oria.\n",
      "anda.\n",
      "ana.\n",
      "ana.\n",
      "ana gabriela.\n",
      "nagorn.\n",
      "fabianeth.\n",
      "ana.\n",
      "ender.\n",
      "yohel.\n",
      "ana.\n",
      "maría martha.\n",
      "ana gabriela.\n",
      "yohel.\n",
      "yumaría valejandresa.\n",
      "walkiriangela.\n",
      "ana.\n",
      "ara.\n",
      "maría gabrie.\n",
      "jocselyn.\n",
      "rous.\n",
      "layla.\n",
      "marianexime.\n",
      "yohel.\n",
      "valejandro del carolivia.\n",
      "paola ste.\n",
      "yohelo.\n",
      "yordaniela.\n",
      "varnia.\n",
      "celes.\n",
      "ana mariana.\n",
      "ana.\n",
      "gabriela.\n",
      "gabriela.\n",
      "ana.\n",
      "kariela.\n",
      "nagovith.\n"
     ]
    }
   ],
   "source": [
    "# sample from the model\n",
    "g = torch.Generator().manual_seed(2147048347 + 10)\n",
    "generated_names_list=[]\n",
    "for _ in range(200):\n",
    "    \n",
    "    out = []\n",
    "    context = [0] * block_size # initialize with all ...\n",
    "    while True:\n",
    "      emb = C[torch.tensor([context])] # (1,block_size,d)\n",
    "      h = torch.tanh(emb.view(1, -1) @ W1 + b1)\n",
    "      logits = h @ W2 + b2\n",
    "      probs = F.softmax(logits, dim=1)\n",
    "      ix = torch.multinomial(probs, num_samples=1, generator=g).item()\n",
    "      context = context[1:] + [ix]\n",
    "      out.append(ix)\n",
    "      if ix == 0:\n",
    "        break\n",
    "    \n",
    "    generated_names= ''.join(itos[i] for i in out)\n",
    "    generated_names_list.append(generated_names)\n",
    "    print(generated_names)\n"
   ]
  },
  {
   "cell_type": "code",
   "execution_count": 15,
   "metadata": {},
   "outputs": [],
   "source": [
    "#Cleans unwanted characters (i.e. '.')\n",
    "def output_cleaning(list_of_names):\n",
    "    final= []\n",
    "    for i in list_of_names:\n",
    "        if i.endswith('.'): \n",
    "            name_only= i[:-1]  # deletes final '.'\n",
    "            final.append(name_only)\n",
    "        else:\n",
    "            final.append(i)  # appends original name \n",
    "    return final"
   ]
  },
  {
   "cell_type": "code",
   "execution_count": 16,
   "metadata": {},
   "outputs": [
    {
     "name": "stdout",
     "output_type": "stream",
     "text": [
      "Number of original names:106\n",
      "['maría valerian', 'nagorn', 'maria daniel', 'andres', 'romaliana', 'yohelo', 'mar', 'sherle', 'ana gración', 'ara', 'paola celenski', 'fabianeska', 'alejanda', 'yordaniela', 'valeria ania', 'maría valejandra', 'ley', 'marian', 'jaimen', 'ender', 'fabian', 'valejandra', 'dalexanda', 'maría vales', 'warmen', 'warmenessa', 'shirle', 'ver', 'any', 'antonia', 'fabiangela', 'maría valexandro david', 'joonmaria', 'nica', 'maría andrés', 'jacque', 'josé andra', 'gabrie', 'sara', 'jovangela', 'nagorn', 'jovangel', 'sherim', 'carlos andrés', 'dalentina', 'valexandrés', 'arianessa', 'elicia', 'romali', 'celes', 'sherle', 'xandra', 'sherim', 'araya', 'warmos', 'ender', 'wan', 'fabiana mara', 'jaimeneska', 'yohelo', 'romalia', 'paolación', 'warmen', 'branchel', 'orian', 'sherle', 'valejandrés', 'branchel', 'dania', 'jacque', 'jovangela', 'elizabelualka', 'ara', 'fabian', 'yordaniela', 'ara', 'zie', 'marian', 'maría valeska', 'mar', 'nagorn', 'jaimen', 'paola sofia', 'mariania', 'fabianeisabelualkiriangel', 'josé martha', 'marian', 'oria', 'anda', 'nagorn', 'fabianeth', 'ender', 'maría martha', 'yumaría valejandresa', 'walkiriangela', 'ara', 'maría gabrie', 'marianexime', 'valejandro del carolivia', 'paola ste', 'yohelo', 'yordaniela', 'varnia', 'celes', 'ana mariana', 'kariela']\n"
     ]
    }
   ],
   "source": [
    "#Original names only \n",
    "generated_names_list= output_cleaning(generated_names_list)\n",
    "original_names= [n for n in generated_names_list if n not in names]\n",
    "print(f'Number of original names:{len(original_names)}')\n",
    "print(original_names)"
   ]
  },
  {
   "cell_type": "code",
   "execution_count": 17,
   "metadata": {},
   "outputs": [],
   "source": [
    "#For human-evaluation. Uncomment if you want to generate a new list.\n",
    "\n",
    "# dict= {\"names\": original_names}  \n",
    "# df= pd.DataFrame(dict) # opens csv with names\n",
    "# df.to_csv('human_evaluation/generated_names_vzl.csv')\n"
   ]
  },
  {
   "cell_type": "code",
   "execution_count": 21,
   "metadata": {},
   "outputs": [
    {
     "name": "stdout",
     "output_type": "stream",
     "text": [
      "['michel', 'briela', 'luz elentina', 'vivia', 'sherle', 'maría mery', 'michel', 'michel', 'michel', 'glentina', 'angel', 'wilmery', 'luzka', 'ziul', 'michel', 'sherle', 'angely', 'fernandra', 'angely', 'michel', 'yumaría fernandrea', 'sheriren', 'kena', 'glentina', 'michel', 'briela', 'yenifel', 'michel', 'fernandrea', 'briel', 'fernandrea', 'ziulia', 'michel', 'luzka', 'marianiela', 'michel', 'michel', 'luis daviela', 'midfet', 'sherle', 'emilifernandrea', 'maría celentina', 'michel', 'michel', 'michel', 'michel', 'angel', 'luz eleska', 'nica', 'danielentina', 'sherle', 'rohaniel', 'maria del valentina', 'verónicol', 'briel', 'wilmery', 'marianiela', 'yosmiria del valentina', 'glentina', 'michel', 'aneisforo', 'briel valenssey', 'michel', 'jhocca eduardo', 'michel', 'michel', 'maría fernandrea', 'descarla', 'briela', 'kenrique jose', 'deborelizabel', 'michel', 'michel', 'maría fernandrea', 'michel', 'elicia', 'michel', 'michel', 'briela']\n",
      "Rate of acceptable names: 0.4906832298136646\n"
     ]
    }
   ],
   "source": [
    "#Human-evaluation results \n",
    "\n",
    "review= pd.read_csv('human_evaluation/generated_names_vzl_reviewed.csv') #read csv with reviewed data\n",
    "acceptable_names= [i[1] for i in review.values if i[2]==1] #takes all accepted names, labelled with 1.\n",
    "\n",
    "print(acceptable_names)\n",
    "\n",
    "print('Rate of acceptable names:', len(acceptable_names) / len(review))\n"
   ]
  }
 ],
 "metadata": {
  "kernelspec": {
   "display_name": "Python 3",
   "language": "python",
   "name": "python3"
  },
  "language_info": {
   "codemirror_mode": {
    "name": "ipython",
    "version": 3
   },
   "file_extension": ".py",
   "mimetype": "text/x-python",
   "name": "python",
   "nbconvert_exporter": "python",
   "pygments_lexer": "ipython3",
   "version": "3.11.8"
  }
 },
 "nbformat": 4,
 "nbformat_minor": 2
}
