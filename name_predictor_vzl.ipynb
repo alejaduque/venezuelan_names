{
 "cells": [
  {
   "cell_type": "code",
   "execution_count": 120,
   "metadata": {},
   "outputs": [],
   "source": [
    "import torch #for building nn and manipulate tensors\n",
    "import torch.nn.functional as F\n",
    "import matplotlib.pyplot as plt # for making figures\n",
    "import random #for shuffling values \n",
    "import torchmetrics #calculate evaluation metrics \n",
    "import pandas as pd\n",
    "%matplotlib inline"
   ]
  },
  {
   "cell_type": "code",
   "execution_count": 121,
   "metadata": {},
   "outputs": [
    {
     "name": "stdout",
     "output_type": "stream",
     "text": [
      "Number of names in dataset:523\n"
     ]
    }
   ],
   "source": [
    "#Read words in our VENEZUELAN dataset\n",
    "names= open('corpus/name_list_vzl.txt', 'r', encoding='utf-8').read().lower().splitlines()\n",
    "print(f'Number of names in dataset:{len(set(names))}')"
   ]
  },
  {
   "cell_type": "code",
   "execution_count": 122,
   "metadata": {},
   "outputs": [
    {
     "name": "stdout",
     "output_type": "stream",
     "text": [
      "{1: ' ', 2: 'a', 3: 'b', 4: 'c', 5: 'd', 6: 'e', 7: 'f', 8: 'g', 9: 'h', 10: 'i', 11: 'j', 12: 'k', 13: 'l', 14: 'm', 15: 'n', 16: 'o', 17: 'p', 18: 'q', 19: 'r', 20: 's', 21: 't', 22: 'u', 23: 'v', 24: 'w', 25: 'x', 26: 'y', 27: 'z', 28: 'á', 29: 'é', 30: 'í', 31: 'ó', 32: 'ú', 0: '.'}\n",
      "Lenght of vocabulary: 33\n"
     ]
    }
   ],
   "source": [
    "#Building vocabulary \n",
    "chars = sorted(list(set(''.join(names)))) \n",
    "stoi = {s:i+1 for i,s in enumerate(chars)}\n",
    "stoi['.'] = 0 #adds dot in position 0 for building block size \n",
    "itos = {i:s for s,i in stoi.items()} \n",
    "len_vocab= len(itos)\n",
    "print(itos)\n",
    "print(f'Lenght of vocabulary: {len_vocab}') "
   ]
  },
  {
   "cell_type": "code",
   "execution_count": 123,
   "metadata": {},
   "outputs": [
    {
     "name": "stdout",
     "output_type": "stream",
     "text": [
      "torch.Size([3612, 3]) torch.Size([3612])\n",
      "torch.Size([437, 3]) torch.Size([437])\n",
      "torch.Size([490, 3]) torch.Size([490])\n"
     ]
    }
   ],
   "source": [
    "# Build the dataset\n",
    "\n",
    "block_size = 3 # context length: how many characters do we take to predict the next one?\n",
    "\n",
    "def build_dataset(words):  \n",
    "  X, Y = [], [] #X are the values, Y are the labels \n",
    "  for w in words:\n",
    "\n",
    "    #print(w)\n",
    "    context = [0] * block_size\n",
    "    for ch in w + '.':\n",
    "      ix = stoi[ch]\n",
    "      X.append(context)\n",
    "      Y.append(ix)\n",
    "      #print(''.join(itos[i] for i in context), '--->', itos[ix])\n",
    "      context = context[1:] + [ix] # crop and append\n",
    "\n",
    "  X = torch.tensor(X)\n",
    "  Y = torch.tensor(Y)\n",
    "  print(X.shape, Y.shape)\n",
    "  return X, Y\n",
    "\n",
    "random.seed(42)\n",
    "random.shuffle(names) #shuffles names in dataset \n",
    "\n",
    "\n",
    "#Train/validation/test \n",
    "n1 = int(0.8*len(names)) \n",
    "n2 = int(0.9*len(names))\n",
    "\n",
    "Xtr, Ytr = build_dataset(names[:n1]) #training split. 80%.\n",
    "Xdev, Ydev = build_dataset(names[n1:n2]) #validation split. 10%. \n",
    "Xte, Yte = build_dataset(names[n2:]) #test split. 10%. "
   ]
  },
  {
   "cell_type": "code",
   "execution_count": 124,
   "metadata": {},
   "outputs": [
    {
     "data": {
      "text/plain": [
       "(torch.Size([3612, 3]), torch.int64, torch.Size([3612]), torch.int64)"
      ]
     },
     "execution_count": 124,
     "metadata": {},
     "output_type": "execute_result"
    }
   ],
   "source": [
    "#Shape of training split (X and Y)\n",
    "Xtr.shape, Xtr.dtype, Ytr.shape, Ytr.dtype"
   ]
  },
  {
   "cell_type": "code",
   "execution_count": 125,
   "metadata": {},
   "outputs": [],
   "source": [
    "#Setting number of neurons\n",
    "neurons= 400"
   ]
  },
  {
   "cell_type": "code",
   "execution_count": 126,
   "metadata": {},
   "outputs": [],
   "source": [
    "#Building of NN \n",
    "g = torch.Generator().manual_seed(2147483647) # for reproducibility\n",
    "dim_embedding = 10 #dimensions of embedding \n",
    "\n",
    "C = torch.randn((len_vocab, dim_embedding), generator=g) #Look-up table C \n",
    "W1 = torch.randn((dim_embedding*block_size, neurons), generator=g) #hidden layer. Random initialized weights. 6 because 3x2. 100 variable.\n",
    "b1 = torch.randn(neurons, generator=g) #bias \n",
    "W2 = torch.randn((neurons, len_vocab), generator=g) #softmax function (outputs)\n",
    "b2 = torch.randn(len_vocab, generator=g)\n",
    "parameters = [C, W1, b1, W2, b2]\n",
    "for p in parameters:\n",
    "    p.requires_grad = True #states that gradients have to be computed for each parameter "
   ]
  },
  {
   "cell_type": "code",
   "execution_count": 127,
   "metadata": {},
   "outputs": [
    {
     "data": {
      "text/plain": [
       "25963"
      ]
     },
     "execution_count": 127,
     "metadata": {},
     "output_type": "execute_result"
    }
   ],
   "source": [
    "# Number of parameters in total\n",
    "sum(p.nelement() for p in parameters) "
   ]
  },
  {
   "cell_type": "code",
   "execution_count": 128,
   "metadata": {},
   "outputs": [],
   "source": [
    "#Keeping track of learning rate and loss \n",
    "\n",
    "lri= []\n",
    "lossi=[]\n",
    "stepi=[]\n",
    "loss_val= []\n",
    "\n",
    "for i in range(60000):\n",
    "  \n",
    "  # minibatch construct\n",
    "  ix = torch.randint(0, Xtr.shape[0], (60,))\n",
    "  \n",
    "  # forward pass\n",
    "  emb = C[Xtr[ix]] # (32, 3, 10)\n",
    "  h = torch.tanh(emb.view(-1, block_size*dim_embedding) @ W1 + b1) # (32, 200)\n",
    "  logits = h @ W2 + b2 # (32, 27)\n",
    "  loss = F.cross_entropy(logits, Ytr[ix])\n",
    "  #print(loss.item())\n",
    "  \n",
    "  # backward pass\n",
    "  for p in parameters:\n",
    "    p.grad = None\n",
    "  loss.backward()\n",
    "  \n",
    "  # update\n",
    "  #lr = lrs[i]\n",
    "  lr = 0.1 if i < 100000 else 0.01\n",
    "  for p in parameters:\n",
    "    p.data += -lr * p.grad\n",
    "\n",
    "  # track stats\n",
    "  stepi.append(i)\n",
    "  lossi.append(loss.log10().item())\n",
    "\n",
    "  emb_val = C[Xdev]\n",
    "  h = torch.tanh(emb_val.view(-1, block_size*dim_embedding) @ W1 + b1) \n",
    "  logits = h @ W2 + b2 \n",
    "  loss = F.cross_entropy(logits, Ydev)\n",
    "  loss_val.append(loss.log10().item())\n",
    "\n",
    "#print(loss.item())"
   ]
  },
  {
   "cell_type": "code",
   "execution_count": 129,
   "metadata": {},
   "outputs": [
    {
     "data": {
      "image/png": "[encoded data removed]",
      "text/plain": [
       "<Figure size 640x480 with 1 Axes>"
      ]
     },
     "metadata": {},
     "output_type": "display_data"
    }
   ],
   "source": [
    "#Plotting loss of traning and validation curves \n",
    "plt.semilogx(stepi, lossi)\n",
    "plt.semilogx(stepi, loss_val)\n",
    "plt.show()\n",
    "\n",
    "iters_opt = torch.argmin(torch.tensor(loss_val))"
   ]
  },
  {
   "cell_type": "code",
   "execution_count": 130,
   "metadata": {},
   "outputs": [],
   "source": [
    "#NN with optimized number of iterations \n",
    "\n",
    "C = torch.randn((len_vocab, dim_embedding), generator=g) \n",
    "W1 = torch.randn((dim_embedding*block_size, neurons), generator=g) #hidden layer. Random initialized weights. 6 because 3x2. 100 variable.\n",
    "b1 = torch.randn(neurons, generator=g) #bias \n",
    "W2 = torch.randn((neurons, len_vocab), generator=g) #softmax function (outputs)\n",
    "b2 = torch.randn(len_vocab, generator=g)\n",
    "parameters = [C, W1, b1, W2, b2]\n",
    "for p in parameters:\n",
    "    p.requires_grad = True\n",
    "\n",
    "for i in range(iters_opt):\n",
    "  \n",
    "  # minibatch construct\n",
    "  ix = torch.randint(0, Xtr.shape[0], (60,))\n",
    "  \n",
    "  # forward pass\n",
    "  emb = C[Xtr[ix]] # (32, 3, 10)\n",
    "  h = torch.tanh(emb.view(-1, dim_embedding*block_size) @ W1 + b1) # (33, 200)\n",
    "  logits = h @ W2 + b2 # (33, 27)\n",
    "  loss = F.cross_entropy(logits, Ytr[ix])\n",
    "  #print(loss.item())\n",
    "  \n",
    "  # backward pass\n",
    "  for p in parameters:\n",
    "    p.grad = None\n",
    "  loss.backward()\n",
    "  \n",
    "  # update\n",
    "  #lr = lrs[i]\n",
    "  lr = 0.1 if i < 100000 else 0.01\n",
    "  for p in parameters:\n",
    "    p.data += -lr * p.grad"
   ]
  },
  {
   "cell_type": "code",
   "execution_count": 131,
   "metadata": {},
   "outputs": [
    {
     "data": {
      "image/png": "[encoded data removed]",
      "text/plain": [
       "<Figure size 800x800 with 1 Axes>"
      ]
     },
     "metadata": {},
     "output_type": "display_data"
    }
   ],
   "source": [
    "# visualize dimensions 0 and 1 of the embedding matrix C for all characters\n",
    "plt.figure(figsize=(8,8))\n",
    "plt.scatter(C[:,0].data, C[:,1].data, s=200)\n",
    "for i in range(C.shape[0]):\n",
    "    plt.text(C[i,0].item(), C[i,1].item(), itos[i], ha=\"center\", va=\"center\", color='white')\n",
    "plt.grid('minor')"
   ]
  },
  {
   "cell_type": "code",
   "execution_count": 132,
   "metadata": {},
   "outputs": [
    {
     "name": "stdout",
     "output_type": "stream",
     "text": [
      "Loss of our dataset:5.305933475494385\n",
      "Perplexity: 201.52903747558594\n"
     ]
    }
   ],
   "source": [
    "#Testing \n",
    "emb_tes = C[Xte] #([272, 4, 10])\n",
    "h = torch.tanh(emb_tes.view(-1, block_size*dim_embedding) @ W1 + b1) # ([272, 250])\n",
    "logits = h @ W2 + b2 #([272, 28])\n",
    "\n",
    "\n",
    "#Cross-entropy \n",
    "loss = F.cross_entropy(logits, Yte)\n",
    "print(f'Loss of our dataset:{loss.item()}')\n",
    "\n",
    "#Perplexity \n",
    "# Reshape logits to add a dummy dimension for seq_len\n",
    "logits = logits.unsqueeze(1)  # Shape will become [272, 1, 28]\n",
    "\n",
    "# Calculate perplexity\n",
    "perplexity = torch.exp(loss)\n",
    "print(f\"Perplexity: {perplexity.item()}\")"
   ]
  },
  {
   "cell_type": "code",
   "execution_count": 133,
   "metadata": {},
   "outputs": [
    {
     "name": "stdout",
     "output_type": "stream",
     "text": [
      "meladys.\n",
      "mbil.\n",
      "jelinnifernandra.\n",
      "pedro.\n",
      "ednoido.\n",
      "enda.\n",
      "frankhermi.\n",
      "debil.\n",
      "maribella.\n",
      "ana maragovito.\n",
      "miguerita.\n",
      "laura.\n",
      "maribenireth.\n",
      "pedro.\n",
      "melifernandra.\n",
      "luis.\n",
      "abdemaribella.\n",
      "abia.\n",
      "maria de jesúsk uomatíaytátyvhoraima.\n",
      "julia.\n",
      "soctoritet.\n",
      "vangelina.\n",
      "mery.\n",
      "zuleritzy.\n",
      "maría andra.\n",
      "debil.\n",
      "bella.\n",
      "oromaserlyn.\n",
      "maribeetdy.\n",
      "eumeli.\n",
      "josé.\n",
      "mela.\n",
      "bella.\n",
      "merytyt.\n",
      "bertaxdy.\n",
      "willia.\n",
      "felestefanyhella.\n",
      "jetzabella.\n",
      "neila.\n",
      "neira.\n",
      "emitivo.\n",
      "mira.\n",
      "mery.\n",
      "neila.\n",
      "mamzoyca.\n",
      "nica.\n",
      "kena.\n",
      "sixta.\n",
      "maribeorgenirenais.\n",
      "melady.\n",
      "etjy.\n",
      "joynqree.\n",
      "mery.\n",
      "maribelady.\n",
      "luis.\n",
      "mery.\n",
      "maribelandra.\n",
      "beatrid.\n",
      "maragovito.\n",
      "maribella.\n",
      "jesh glady.\n",
      "ana gabrietet.\n",
      "josé.\n",
      "merylle.\n",
      "neira.\n",
      "eniria de jesnaragovito.\n",
      "mvis.\n",
      "jetzabella.\n",
      "josé jeska.\n",
      "abil.\n",
      "alejaneira.\n",
      "josé jessimlandragovito.\n",
      "neila.\n",
      "mgizhlay.\n",
      "debil.\n",
      "ignación.\n",
      "maribenifernandrey.\n",
      "beatrid.\n",
      "sofitet.\n",
      "maría antxoynqr.\n",
      "maribella.\n",
      "axhy.\n",
      "caxlandra.\n",
      "meleana milio.\n",
      "zuleidi.\n",
      "maribeetdy.\n",
      "jorgeniret.\n",
      "josé.\n",
      "neira.\n",
      "yuliki.\n",
      "roxymaragovito.\n",
      "jocsela.\n",
      "elestewuito.\n",
      "jorgeniret.\n",
      "maribella.\n",
      "aribel.\n",
      "maría tewsaqribeth.\n",
      "oromaserlin.\n",
      "aleska.\n",
      "edel aera.\n",
      "mery.\n",
      "abia.\n",
      "maribella.\n",
      "elady.\n",
      "debil.\n",
      "elendaera.\n",
      "elondra.\n",
      "elba.\n",
      "maribella.\n",
      "mery.\n",
      "ednoido.\n",
      "eleana gabriel carlos andra.\n",
      "maribz gladibaoto.\n",
      "abia.\n",
      "jesús.\n",
      "maribella.\n",
      "sima.\n",
      "mery.\n",
      "pedro.\n",
      "pedel.\n",
      "neila.\n",
      "isisoesa.\n",
      "ulia.\n",
      "feloenhcalla.\n",
      "maría ter.\n",
      "migueritet.\n",
      "jeria andra.\n",
      "nico.\n",
      "luis.\n",
      "sofia.\n",
      "luis.\n",
      "neira.\n",
      "eleanton.\n",
      "jessica.\n",
      "jetzabella.\n",
      "kimbo.\n",
      "maribzkyerrarkisely.\n",
      "mery.\n",
      "sofia.\n",
      "ana maría andra.\n",
      "maría andra.\n",
      "eniret gy.\n",
      "mery.\n",
      "marie.\n",
      "luis.\n",
      "romasragovito.\n",
      "eleannanda.\n",
      "julia.\n",
      "maría andra.\n",
      "maribella.\n",
      "maría teréa angeleannaises.\n",
      "aribeeca.\n",
      "felenes.\n",
      "jocarlos anda.\n",
      "lay.\n",
      "maribella.\n",
      "julia.\n",
      "oropdúilgexnella.\n",
      "mel alejaneira.\n",
      "elentina.\n",
      "enithe.\n",
      "emila.\n",
      "ela.\n",
      "migueritzy.\n",
      "maribella.\n",
      "etjytyt.\n",
      "jetzabella.\n",
      "bella.\n",
      "ana gabrieth.\n",
      "luis.\n",
      "elady.\n",
      "jeva.\n",
      "lady.\n",
      "kimbo.\n",
      "elenders.\n",
      "ana marita.\n",
      "josé.\n",
      "isisoesa.\n",
      "eleana.\n",
      "beth.\n",
      "shakti.\n",
      "mery.\n",
      "beth.\n",
      "sofia.\n",
      "edel.\n",
      "mónickoll.\n",
      "fel.\n",
      "tomasunni.\n",
      "josé.\n",
      "eladys.\n",
      "debil.\n",
      "jelin.\n",
      "maria andra.\n",
      "ana gabrieltaribella.\n",
      "elo.\n",
      "willia.\n",
      "georgeniret gy.\n",
      "ángella.\n",
      "ednoido.\n",
      "bemorena.\n"
     ]
    }
   ],
   "source": [
    "# sample from the model\n",
    "g = torch.Generator().manual_seed(2147048347 + 10)\n",
    "generated_names_list=[]\n",
    "for _ in range(200):\n",
    "    \n",
    "    out = []\n",
    "    context = [0] * block_size # initialize with all ...\n",
    "    while True:\n",
    "      emb = C[torch.tensor([context])] # (1,block_size,d)\n",
    "      h = torch.tanh(emb.view(1, -1) @ W1 + b1)\n",
    "      logits = h @ W2 + b2\n",
    "      probs = F.softmax(logits, dim=1)\n",
    "      ix = torch.multinomial(probs, num_samples=1, generator=g).item()\n",
    "      context = context[1:] + [ix]\n",
    "      out.append(ix)\n",
    "      if ix == 0:\n",
    "        break\n",
    "    \n",
    "    generated_names= ''.join(itos[i] for i in out)\n",
    "    generated_names_list.append(generated_names)\n",
    "    print(generated_names)\n"
   ]
  },
  {
   "cell_type": "code",
   "execution_count": 134,
   "metadata": {},
   "outputs": [],
   "source": [
    "#Cleans unwanted characters (i.e. '.')\n",
    "def output_cleaning(list_of_names):\n",
    "    final= []\n",
    "    for i in list_of_names:\n",
    "        if i.endswith('.'): \n",
    "            name_only= i[:-1]  # deletes final '.'\n",
    "            final.append(name_only)\n",
    "        else:\n",
    "            final.append(i)  # appends original name \n",
    "    return final"
   ]
  },
  {
   "cell_type": "code",
   "execution_count": 135,
   "metadata": {},
   "outputs": [
    {
     "name": "stdout",
     "output_type": "stream",
     "text": [
      "Number of original names:141\n",
      "['meladys', 'mbil', 'jelinnifernandra', 'enda', 'frankhermi', 'maribella', 'ana maragovito', 'miguerita', 'maribenireth', 'melifernandra', 'abdemaribella', 'abia', 'maria de jesúsk uomatíaytátyvhoraima', 'soctoritet', 'vangelina', 'zuleritzy', 'maría andra', 'oromaserlyn', 'maribeetdy', 'eumeli', 'mela', 'merytyt', 'bertaxdy', 'willia', 'felestefanyhella', 'jetzabella', 'emitivo', 'mira', 'mamzoyca', 'nica', 'kena', 'maribeorgenirenais', 'melady', 'etjy', 'joynqree', 'maribelady', 'maribelandra', 'beatrid', 'maragovito', 'maribella', 'jesh glady', 'ana gabrietet', 'merylle', 'eniria de jesnaragovito', 'mvis', 'jetzabella', 'josé jeska', 'abil', 'alejaneira', 'josé jessimlandragovito', 'mgizhlay', 'ignación', 'maribenifernandrey', 'beatrid', 'sofitet', 'maría antxoynqr', 'maribella', 'axhy', 'caxlandra', 'meleana milio', 'zuleidi', 'maribeetdy', 'jorgeniret', 'yuliki', 'roxymaragovito', 'jocsela', 'elestewuito', 'jorgeniret', 'maribella', 'aribel', 'maría tewsaqribeth', 'oromaserlin', 'aleska', 'edel aera', 'abia', 'maribella', 'elady', 'elendaera', 'elondra', 'maribella', 'eleana gabriel carlos andra', 'maribz gladibaoto', 'abia', 'maribella', 'sima', 'pedel', 'isisoesa', 'ulia', 'feloenhcalla', 'maría ter', 'migueritet', 'jeria andra', 'nico', 'eleanton', 'jetzabella', 'kimbo', 'maribzkyerrarkisely', 'ana maría andra', 'maría andra', 'eniret gy', 'romasragovito', 'eleannanda', 'maría andra', 'maribella', 'maría teréa angeleannaises', 'aribeeca', 'felenes', 'jocarlos anda', 'lay', 'maribella', 'oropdúilgexnella', 'mel alejaneira', 'elentina', 'enithe', 'emila', 'ela', 'migueritzy', 'maribella', 'etjytyt', 'jetzabella', 'ana gabrieth', 'elady', 'jeva', 'kimbo', 'elenders', 'ana marita', 'isisoesa', 'beth', 'beth', 'mónickoll', 'fel', 'tomasunni', 'eladys', 'jelin', 'maria andra', 'ana gabrieltaribella', 'elo', 'willia', 'georgeniret gy', 'ángella', 'bemorena']\n"
     ]
    }
   ],
   "source": [
    "#Original names only \n",
    "generated_names_list= output_cleaning(generated_names_list)\n",
    "original_names= [n for n in generated_names_list if n not in names]\n",
    "print(f'Number of original names:{len(original_names)}')\n",
    "print(original_names)"
   ]
  },
  {
   "cell_type": "code",
   "execution_count": 136,
   "metadata": {},
   "outputs": [],
   "source": [
    "#For human-evaluation. Uncomment if you want to generate a new list.\n",
    "\n",
    "# dict= {\"names\": original_names}  \n",
    "# df= pd.DataFrame(dict) # opens csv with names\n",
    "# df.to_csv('human_evaluation/generated_names_vzl.csv')\n"
   ]
  },
  {
   "cell_type": "code",
   "execution_count": 137,
   "metadata": {},
   "outputs": [
    {
     "name": "stdout",
     "output_type": "stream",
     "text": [
      "['michel', 'briela', 'luz elentina', 'vivia', 'sherle', 'maría mery', 'michel', 'michel', 'michel', 'glentina', 'angel', 'wilmery', 'luzka', 'ziul', 'michel', 'sherle', 'angely', 'fernandra', 'angely', 'michel', 'yumaría fernandrea', 'sheriren', 'kena', 'glentina', 'michel', 'briela', 'yenifel', 'michel', 'fernandrea', 'briel', 'fernandrea', 'ziulia', 'michel', 'luzka', 'marianiela', 'michel', 'michel', 'luis daviela', 'midfet', 'sherle', 'emilifernandrea', 'maría celentina', 'michel', 'michel', 'michel', 'michel', 'angel', 'luz eleska', 'nica', 'danielentina', 'sherle', 'rohaniel', 'maria del valentina', 'verónicol', 'briel', 'wilmery', 'marianiela', 'yosmiria del valentina', 'glentina', 'michel', 'aneisforo', 'briel valenssey', 'michel', 'jhocca eduardo', 'michel', 'michel', 'maría fernandrea', 'descarla', 'briela', 'kenrique jose', 'deborelizabel', 'michel', 'michel', 'maría fernandrea', 'michel', 'elicia', 'michel', 'michel', 'briela']\n",
      "Rate of acceptable names: 0.4906832298136646\n"
     ]
    }
   ],
   "source": [
    "#Human-evaluation results \n",
    "\n",
    "review= pd.read_csv('human_evaluation/generated_names_vzl_reviewed.csv') #read csv with reviewed data\n",
    "acceptable_names= [i[1] for i in review.values if i[2]==1] #takes all accepted names, labelled with 1.\n",
    "\n",
    "print(acceptable_names)\n",
    "\n",
    "print('Rate of acceptable names:', len(acceptable_names) / len(review))\n"
   ]
  }
 ],
 "metadata": {
  "kernelspec": {
   "display_name": "Python 3",
   "language": "python",
   "name": "python3"
  },
  "language_info": {
   "codemirror_mode": {
    "name": "ipython",
    "version": 3
   },
   "file_extension": ".py",
   "mimetype": "text/x-python",
   "name": "python",
   "nbconvert_exporter": "python",
   "pygments_lexer": "ipython3",
   "version": "3.11.8"
  }
 },
 "nbformat": 4,
 "nbformat_minor": 2
}
