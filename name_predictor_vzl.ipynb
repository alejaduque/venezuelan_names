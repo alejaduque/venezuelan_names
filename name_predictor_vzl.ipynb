{
 "cells": [
  {
   "cell_type": "code",
   "execution_count": 11,
   "metadata": {},
   "outputs": [],
   "source": [
    "import torch #for building nn and manipulate tensors\n",
    "import torch.nn.functional as F\n",
    "import torch.nn as nn\n",
    "import torch.optim as optim\n",
    "import matplotlib.pyplot as plt # for making figures\n",
    "import random #for shuffling values \n",
    "import torchmetrics #calculate evaluation metrics \n",
    "import pandas as pd\n",
    "%matplotlib inline"
   ]
  },
  {
   "cell_type": "code",
   "execution_count": 12,
   "metadata": {},
   "outputs": [
    {
     "name": "stdout",
     "output_type": "stream",
     "text": [
      "Number of names in dataset:524\n"
     ]
    }
   ],
   "source": [
    "#Read words in our VENEZUELAN dataset\n",
    "names= open('corpus/name_list_vzl.txt', 'r', encoding='utf-8').read().lower().splitlines()\n",
    "print(f'Number of names in dataset:{len(set(names))}')"
   ]
  },
  {
   "cell_type": "code",
   "execution_count": 13,
   "metadata": {},
   "outputs": [
    {
     "name": "stdout",
     "output_type": "stream",
     "text": [
      "{1: ' ', 2: 'a', 3: 'b', 4: 'c', 5: 'd', 6: 'e', 7: 'f', 8: 'g', 9: 'h', 10: 'i', 11: 'j', 12: 'k', 13: 'l', 14: 'm', 15: 'n', 16: 'o', 17: 'p', 18: 'q', 19: 'r', 20: 's', 21: 't', 22: 'u', 23: 'v', 24: 'w', 25: 'x', 26: 'y', 27: 'z', 28: 'á', 29: 'é', 30: 'í', 31: 'ó', 32: 'ú', 0: '.'}\n",
      "Lenght of vocabulary: 33\n"
     ]
    }
   ],
   "source": [
    "#Building vocabulary \n",
    "chars = sorted(list(set(''.join(names)))) \n",
    "stoi = {s:i+1 for i,s in enumerate(chars)}\n",
    "stoi['.'] = 0 #adds dot in position 0 for building block size \n",
    "itos = {i:s for s,i in stoi.items()} \n",
    "len_vocab= len(itos)\n",
    "print(itos)\n",
    "print(f'Lenght of vocabulary: {len_vocab}') "
   ]
  },
  {
   "cell_type": "code",
   "execution_count": 14,
   "metadata": {},
   "outputs": [
    {
     "name": "stdout",
     "output_type": "stream",
     "text": [
      "torch.Size([3615, 3]) torch.Size([3615])\n",
      "torch.Size([432, 3]) torch.Size([432])\n",
      "torch.Size([499, 3]) torch.Size([499])\n"
     ]
    }
   ],
   "source": [
    "# Build the dataset\n",
    "\n",
    "block_size = 3 # context length: how many characters do we take to predict the next one?\n",
    "\n",
    "def build_dataset(words):  \n",
    "  X, Y = [], [] #X are the values, Y are the labels \n",
    "  for w in words:\n",
    "\n",
    "    #print(w)\n",
    "    context = [0] * block_size\n",
    "    for ch in w + '.':\n",
    "      ix = stoi[ch]\n",
    "      X.append(context)\n",
    "      Y.append(ix)\n",
    "      #print(''.join(itos[i] for i in context), '--->', itos[ix])\n",
    "      context = context[1:] + [ix] # crop and append\n",
    "\n",
    "  X = torch.tensor(X)\n",
    "  Y = torch.tensor(Y)\n",
    "  print(X.shape, Y.shape)\n",
    "  return X, Y\n",
    "\n",
    "random.seed(42)\n",
    "random.shuffle(names) #shuffles names in dataset \n",
    "\n",
    "\n",
    "#Train/validation/test \n",
    "n1 = int(0.8*len(names)) \n",
    "n2 = int(0.9*len(names))\n",
    "\n",
    "Xtr, Ytr = build_dataset(names[:n1]) #training split. 80%.\n",
    "Xval, Yval = build_dataset(names[n1:n2]) #validation split. 10%. \n",
    "Xte, Yte = build_dataset(names[n2:]) #test split. 10%. "
   ]
  },
  {
   "cell_type": "code",
   "execution_count": 15,
   "metadata": {},
   "outputs": [
    {
     "name": "stdout",
     "output_type": "stream",
     "text": [
      "Training set: torch.Size([3615, 3]) torch.int64\n",
      "Validation set: torch.Size([432, 3]) torch.Size([432])\n",
      "Test set: torch.Size([499, 3]) torch.Size([499])\n"
     ]
    }
   ],
   "source": [
    "#Shape of training, validation  and test set \n",
    "print('Training set:',Xtr.shape, Xtr.dtype)\n",
    "print('Validation set:', Xval.shape, Yval.shape)\n",
    "print('Test set:', Xte.shape, Yte.shape)"
   ]
  },
  {
   "cell_type": "code",
   "execution_count": 16,
   "metadata": {},
   "outputs": [],
   "source": [
    "#Setting number of neurons and batch size\n",
    "\n",
    "#Number of neurons\n",
    "neurons= 400\n",
    "\n",
    "#Batch size \n",
    "batch_size= 60"
   ]
  },
  {
   "cell_type": "code",
   "execution_count": 17,
   "metadata": {},
   "outputs": [
    {
     "name": "stdout",
     "output_type": "stream",
     "text": [
      "first layer shape: torch.Size([30, 400])\n"
     ]
    }
   ],
   "source": [
    "#Building of NN \n",
    "g = torch.Generator().manual_seed(2147483647) # for reproducibility\n",
    "dim_embedding = 10 #dimensions of embedding \n",
    "\n",
    "C = torch.randn((len_vocab, dim_embedding), generator=g) #Look-up table C \n",
    "\n",
    "W1 = torch.randn((dim_embedding*block_size, neurons), generator=g) #hidden layer. Random initialized weights. 6 because 3x2. 100 variable.\n",
    "print('first layer shape:', W1.shape)\n",
    "b1 = torch.randn(neurons, generator=g) #bias \n",
    "W2 = torch.randn((neurons, len_vocab), generator=g) #softmax function (outputs)\n",
    "b2 = torch.randn(len_vocab, generator=g)\n",
    "parameters = [C, W1, b1, W2, b2]\n",
    "for p in parameters:\n",
    "    p.requires_grad = True #states that gradients have to be computed for each parameter "
   ]
  },
  {
   "cell_type": "code",
   "execution_count": 18,
   "metadata": {},
   "outputs": [
    {
     "data": {
      "text/plain": [
       "25963"
      ]
     },
     "execution_count": 18,
     "metadata": {},
     "output_type": "execute_result"
    }
   ],
   "source": [
    "# Number of parameters in total\n",
    "sum(p.nelement() for p in parameters) "
   ]
  },
  {
   "cell_type": "code",
   "execution_count": 20,
   "metadata": {},
   "outputs": [
    {
     "ename": "AttributeError",
     "evalue": "module 'torch.nn.init' has no attribute 'zero_'",
     "output_type": "error",
     "traceback": [
      "\u001b[1;31m---------------------------------------------------------------------------\u001b[0m",
      "\u001b[1;31mAttributeError\u001b[0m                            Traceback (most recent call last)",
      "Cell \u001b[1;32mIn[20], line 8\u001b[0m\n\u001b[0;32m      4\u001b[0m         torch\u001b[38;5;241m.\u001b[39mnn\u001b[38;5;241m.\u001b[39minit\u001b[38;5;241m.\u001b[39mzero_(m\u001b[38;5;241m.\u001b[39mbias)\n\u001b[0;32m      7\u001b[0m model \u001b[38;5;241m=\u001b[39m nn\u001b[38;5;241m.\u001b[39mSequential(nn\u001b[38;5;241m.\u001b[39mLinear(block_size\u001b[38;5;241m*\u001b[39mdim_embedding, neurons), nn\u001b[38;5;241m.\u001b[39mTanh(), nn\u001b[38;5;241m.\u001b[39mLinear(neurons, len_vocab))\n\u001b[1;32m----> 8\u001b[0m \u001b[43mmodel\u001b[49m\u001b[38;5;241;43m.\u001b[39;49m\u001b[43mapply\u001b[49m\u001b[43m(\u001b[49m\u001b[43mweights_init\u001b[49m\u001b[43m)\u001b[49m\n\u001b[0;32m     10\u001b[0m optimizer \u001b[38;5;241m=\u001b[39m optim\u001b[38;5;241m.\u001b[39mSGD(model\u001b[38;5;241m.\u001b[39mparameters(), lr\u001b[38;5;241m=\u001b[39m\u001b[38;5;241m1e-1\u001b[39m)\n\u001b[0;32m     11\u001b[0m criterion \u001b[38;5;241m=\u001b[39m nn\u001b[38;5;241m.\u001b[39mCrossEntropyLoss()\n",
      "File \u001b[1;32m~\\AppData\\Local\\Packages\\PythonSoftwareFoundation.Python.3.11_qbz5n2kfra8p0\\LocalCache\\local-packages\\Python311\\site-packages\\torch\\nn\\modules\\module.py:890\u001b[0m, in \u001b[0;36mModule.apply\u001b[1;34m(self, fn)\u001b[0m\n\u001b[0;32m    854\u001b[0m \u001b[38;5;250m\u001b[39m\u001b[38;5;124mr\u001b[39m\u001b[38;5;124;03m\"\"\"Apply ``fn`` recursively to every submodule (as returned by ``.children()``) as well as self.\u001b[39;00m\n\u001b[0;32m    855\u001b[0m \n\u001b[0;32m    856\u001b[0m \u001b[38;5;124;03mTypical use includes initializing the parameters of a model\u001b[39;00m\n\u001b[1;32m   (...)\u001b[0m\n\u001b[0;32m    887\u001b[0m \n\u001b[0;32m    888\u001b[0m \u001b[38;5;124;03m\"\"\"\u001b[39;00m\n\u001b[0;32m    889\u001b[0m \u001b[38;5;28;01mfor\u001b[39;00m module \u001b[38;5;129;01min\u001b[39;00m \u001b[38;5;28mself\u001b[39m\u001b[38;5;241m.\u001b[39mchildren():\n\u001b[1;32m--> 890\u001b[0m     \u001b[43mmodule\u001b[49m\u001b[38;5;241;43m.\u001b[39;49m\u001b[43mapply\u001b[49m\u001b[43m(\u001b[49m\u001b[43mfn\u001b[49m\u001b[43m)\u001b[49m\n\u001b[0;32m    891\u001b[0m fn(\u001b[38;5;28mself\u001b[39m)\n\u001b[0;32m    892\u001b[0m \u001b[38;5;28;01mreturn\u001b[39;00m \u001b[38;5;28mself\u001b[39m\n",
      "File \u001b[1;32m~\\AppData\\Local\\Packages\\PythonSoftwareFoundation.Python.3.11_qbz5n2kfra8p0\\LocalCache\\local-packages\\Python311\\site-packages\\torch\\nn\\modules\\module.py:891\u001b[0m, in \u001b[0;36mModule.apply\u001b[1;34m(self, fn)\u001b[0m\n\u001b[0;32m    889\u001b[0m \u001b[38;5;28;01mfor\u001b[39;00m module \u001b[38;5;129;01min\u001b[39;00m \u001b[38;5;28mself\u001b[39m\u001b[38;5;241m.\u001b[39mchildren():\n\u001b[0;32m    890\u001b[0m     module\u001b[38;5;241m.\u001b[39mapply(fn)\n\u001b[1;32m--> 891\u001b[0m \u001b[43mfn\u001b[49m\u001b[43m(\u001b[49m\u001b[38;5;28;43mself\u001b[39;49m\u001b[43m)\u001b[49m\n\u001b[0;32m    892\u001b[0m \u001b[38;5;28;01mreturn\u001b[39;00m \u001b[38;5;28mself\u001b[39m\n",
      "Cell \u001b[1;32mIn[20], line 4\u001b[0m, in \u001b[0;36mweights_init\u001b[1;34m(m)\u001b[0m\n\u001b[0;32m      2\u001b[0m \u001b[38;5;28;01mif\u001b[39;00m \u001b[38;5;28misinstance\u001b[39m(m, nn\u001b[38;5;241m.\u001b[39mLinear):\n\u001b[0;32m      3\u001b[0m     torch\u001b[38;5;241m.\u001b[39mnn\u001b[38;5;241m.\u001b[39minit\u001b[38;5;241m.\u001b[39mxavier_uniform_(m\u001b[38;5;241m.\u001b[39mweight)\n\u001b[1;32m----> 4\u001b[0m     \u001b[43mtorch\u001b[49m\u001b[38;5;241;43m.\u001b[39;49m\u001b[43mnn\u001b[49m\u001b[38;5;241;43m.\u001b[39;49m\u001b[43minit\u001b[49m\u001b[38;5;241;43m.\u001b[39;49m\u001b[43mzero_\u001b[49m(m\u001b[38;5;241m.\u001b[39mbias)\n",
      "\u001b[1;31mAttributeError\u001b[0m: module 'torch.nn.init' has no attribute 'zero_'"
     ]
    }
   ],
   "source": [
    "def weights_init(m):\n",
    "    if isinstance(m, nn.Linear):\n",
    "        torch.nn.init.xavier_uniform_(m.weight)\n",
    "        torch.nn.init.zero_(m.bias)\n",
    "\n",
    "\n",
    "model = nn.Sequential(nn.Linear(block_size*dim_embedding, neurons), nn.Tanh(), nn.Linear(neurons, len_vocab))\n",
    "model.apply(weights_init)\n",
    "\n",
    "optimizer = optim.SGD(model.parameters(), lr=1e-1)\n",
    "criterion = nn.CrossEntropyLoss()"
   ]
  },
  {
   "cell_type": "code",
   "execution_count": null,
   "metadata": {},
   "outputs": [],
   "source": [
    "# EJEMPLO ESTO NO FUNCIONA SI EJECUTA\n",
    "for i in range(60000):\n",
    "\n",
    "    # minibatch construct\n",
    "    ix = torch.randint(0, Xtr.shape[0], (batch_size,))\n",
    "  \n",
    "  # forward pass\n",
    "    emb = C[Xtr[ix]] # (32, 3, 10)\n",
    "    print(emb.shape)\n",
    "\n",
    "\n",
    "    logits = model(emb)\n",
    "\n",
    "    optimizer.zero_grad()\n",
    "    loss = criterion(logits, Ytr[ix])\n",
    "    loss.backward()\n",
    "    optimizer.step()\n",
    "\n"
   ]
  },
  {
   "cell_type": "code",
   "execution_count": null,
   "metadata": {},
   "outputs": [],
   "source": [
    "ix = torch.randint(0, Xtr.shape[0], (batch_size,))"
   ]
  },
  {
   "cell_type": "code",
   "execution_count": null,
   "metadata": {},
   "outputs": [],
   "source": [
    "  model = nn.Sequential(nn.Linear(block_size*dim_embedding, neurons), nn.Tanh(), nn.Linear(neurons, len_vocab))\n",
    "  \n",
    "  # minibatch construct\n",
    "  ix = torch.randint(0, Xtr.shape[0], (batch_size,))\n",
    "  \n",
    "  # forward pass\n",
    "  emb = C[Xtr[ix]] # (32, 3, 10)\n",
    "\n",
    "\n",
    "  h = torch.tanh(emb.view(-1, block_size*dim_embedding) @ W1 + b1) # (32, 200)\n",
    "  logits = h @ W2 + b2 # (32, 27)\n",
    "\n",
    "  \n",
    "  loss = F.cross_entropy(logits, Ytr[ix])\n",
    "  #print(loss.item())\n",
    "  \n",
    "  # backward pass\n",
    "  for p in parameters:\n",
    "    p.grad = None\n",
    "  loss.backward()\n",
    "  \n",
    "  # update\n",
    "  #lr = lrs[i]\n",
    "  lr = 0.1 if i < 100000 else 0.01\n",
    "  for p in parameters:\n",
    "    p.data += -lr * p.grad\n",
    "\n",
    "  # track stats\n",
    "  stepi.append(i)\n",
    "  lossi.append(loss.log10().item())\n",
    "\n",
    "  emb_val = C[Xval]\n",
    "\n",
    "\n",
    "  h = torch.tanh(emb_val.view(-1, block_size*dim_embedding) @ W1 + b1) \n",
    "  logits = h @ W2 + b2 \n",
    "  loss = F.cross_entropy(logits, Yval)\n",
    "\n",
    "  loss_val.append(loss.log10().item())"
   ]
  },
  {
   "cell_type": "code",
   "execution_count": 73,
   "metadata": {},
   "outputs": [],
   "source": [
    "#Keeping track of learning rate and loss \n",
    "\n",
    "lri= []\n",
    "lossi=[]\n",
    "stepi=[]\n",
    "loss_val= []\n",
    "\n",
    "for i in range(60000):\n",
    "  \n",
    "  # minibatch construct\n",
    "  ix = torch.randint(0, Xtr.shape[0], (batch_size,))\n",
    "  \n",
    "  # forward pass\n",
    "  emb = C[Xtr[ix]] # (32, 3, 10)\n",
    "  h = torch.tanh(emb.view(-1, block_size*dim_embedding) @ W1 + b1) # (32, 200)\n",
    "  logits = h @ W2 + b2 # (32, 27)\n",
    "  \n",
    "  loss = F.cross_entropy(logits, Ytr[ix])\n",
    "  #print(loss.item())\n",
    "  \n",
    "  # backward pass\n",
    "  for p in parameters:\n",
    "    p.grad = None\n",
    "  loss.backward()\n",
    "  \n",
    "  # update\n",
    "  #lr = lrs[i]\n",
    "  lr = 0.1 if i < 100000 else 0.01\n",
    "  for p in parameters:\n",
    "    p.data += -lr * p.grad\n",
    "\n",
    "  # track stats\n",
    "  stepi.append(i)\n",
    "  lossi.append(loss.log10().item())\n",
    "\n",
    "  emb_val = C[Xval]\n",
    "  h = torch.tanh(emb_val.view(-1, block_size*dim_embedding) @ W1 + b1) \n",
    "  logits = h @ W2 + b2 \n",
    "  loss = F.cross_entropy(logits, Yval)\n",
    "  loss_val.append(loss.log10().item())\n",
    "\n",
    "#print(loss.item())"
   ]
  },
  {
   "cell_type": "code",
   "execution_count": 74,
   "metadata": {},
   "outputs": [
    {
     "data": {
      "image/png": "[encoded data removed]",
      "text/plain": [
       "<Figure size 640x480 with 1 Axes>"
      ]
     },
     "metadata": {},
     "output_type": "display_data"
    }
   ],
   "source": [
    "#Plotting loss of traning and validation curves \n",
    "plt.semilogx(stepi, lossi)\n",
    "plt.semilogx(stepi, loss_val)\n",
    "plt.show()\n",
    "\n",
    "iters_opt = torch.argmin(torch.tensor(loss_val))"
   ]
  },
  {
   "cell_type": "code",
   "execution_count": 75,
   "metadata": {},
   "outputs": [],
   "source": [
    "#NN with optimized number of iterations \n",
    "\n",
    "C = torch.randn((len_vocab, dim_embedding), generator=g) \n",
    "W1 = torch.randn((dim_embedding*block_size, neurons), generator=g) #hidden layer. Random initialized weights. 6 because 3x2. 100 variable.\n",
    "b1 = torch.randn(neurons, generator=g) #bias \n",
    "W2 = torch.randn((neurons, len_vocab), generator=g) #softmax function (outputs)\n",
    "b2 = torch.randn(len_vocab, generator=g)\n",
    "parameters = [C, W1, b1, W2, b2]\n",
    "for p in parameters:\n",
    "    p.requires_grad = True\n",
    "\n",
    "for i in range(iters_opt):\n",
    "  \n",
    "  # minibatch construct\n",
    "  ix = torch.randint(0, Xtr.shape[0], (batch_size,))\n",
    "  \n",
    "  # forward pass\n",
    "  emb = C[Xtr[ix]] # (32, 3, 10)\n",
    "  h = torch.tanh(emb.view(-1, dim_embedding*block_size) @ W1 + b1) # (33, 200)\n",
    "  logits = h @ W2 + b2 # (33, 27)\n",
    "  loss = F.cross_entropy(logits, Ytr[ix])\n",
    "  #print(loss.item())\n",
    "  \n",
    "  # backward pass\n",
    "  for p in parameters:\n",
    "    p.grad = None\n",
    "  loss.backward()\n",
    "  \n",
    "  # update\n",
    "  #lr = lrs[i]\n",
    "  lr = 0.1 if i < 100000 else 0.01\n",
    "  for p in parameters:\n",
    "    p.data += -lr * p.grad"
   ]
  },
  {
   "cell_type": "code",
   "execution_count": 76,
   "metadata": {},
   "outputs": [
    {
     "data": {
      "image/png": "[encoded data removed]",
      "text/plain": [
       "<Figure size 800x800 with 1 Axes>"
      ]
     },
     "metadata": {},
     "output_type": "display_data"
    }
   ],
   "source": [
    "# visualize dimensions 0 and 1 of the embedding matrix C for all characters\n",
    "plt.figure(figsize=(8,8))\n",
    "plt.scatter(C[:,0].data, C[:,1].data, s=200)\n",
    "for i in range(C.shape[0]):\n",
    "    plt.text(C[i,0].item(), C[i,1].item(), itos[i], ha=\"center\", va=\"center\", color='white')\n",
    "plt.grid('minor')"
   ]
  },
  {
   "cell_type": "code",
   "execution_count": 77,
   "metadata": {},
   "outputs": [
    {
     "name": "stdout",
     "output_type": "stream",
     "text": [
      "Loss of our dataset:4.757412910461426\n",
      "Squeezed shape: torch.Size([499, 1, 33])\n",
      "Perplexity: 116.44428253173828\n"
     ]
    }
   ],
   "source": [
    "#Testing \n",
    "emb_tes = C[Xte] #([272, 4, 10])\n",
    "h = torch.tanh(emb_tes.view(-1, block_size*dim_embedding) @ W1 + b1) # ([272, 250])\n",
    "logits = h @ W2 + b2 #([272, 28])\n",
    "\n",
    "\n",
    "#Cross-entropy \n",
    "loss = F.cross_entropy(logits, Yte)\n",
    "print(f'Loss of our dataset:{loss.item()}')\n",
    "\n",
    "#Perplexity \n",
    "# Reshape logits to add a dummy dimension for seq_len\n",
    "logits = logits.unsqueeze(1)  # Shape will become [272, 1, 28]\n",
    "print('Squeezed shape:', logits.shape)\n",
    "# Calculate perplexity\n",
    "perplexity = torch.exp(loss)\n",
    "print(f\"Perplexity: {perplexity.item()}\")"
   ]
  },
  {
   "cell_type": "code",
   "execution_count": 78,
   "metadata": {},
   "outputs": [
    {
     "name": "stdout",
     "output_type": "stream",
     "text": [
      "micueth.\n",
      "migdn josénna.\n",
      "miguel.\n",
      "mery.\n",
      "kenny.\n",
      "morey.\n",
      "sorarlos angel.\n",
      "marishakti.\n",
      "melin.\n",
      "gioleana.\n",
      "yosmiris.\n",
      "miguela.\n",
      "fel.\n",
      "melis.\n",
      "arely.\n",
      "cragrosangelisa.\n",
      "igevdnyer.\n",
      "enriquira.\n",
      "zora.\n",
      "maría del carmeneky.\n",
      "wilfredo.\n",
      "georayan.\n",
      "jesra.\n",
      "rossana.\n",
      "miguel.\n",
      "sora maría vieta.\n",
      "maría josé.\n",
      "yosmanuel.\n",
      "miguel.\n",
      "shayson.\n",
      "maría angelested.\n",
      "yuleska.\n",
      "margenis.\n",
      "belualkolle.\n",
      "gibisaa.\n",
      "micia.\n",
      "miguel.\n",
      "estefanyhaues.\n",
      "samith.\n",
      "sher.\n",
      "sadesi.\n",
      "reva.\n",
      "marie.\n",
      "coro.\n",
      "lucía.\n",
      "neisa.\n",
      "maribel.\n",
      "norea.\n",
      "gio.\n",
      "maikel.\n",
      "miguela.\n",
      "gisela.\n",
      "lis.\n",
      "melis.\n",
      "arty.\n",
      "migevdn.\n",
      "paul.\n",
      "rosana.\n",
      "neptalica.\n",
      "gise.\n",
      "fer.\n",
      "shira milenda.\n",
      "astricia.\n",
      "shery.\n",
      "wilfredo.\n",
      "wilfednoimbertonelsslela.\n",
      "gio.\n",
      "deska.\n",
      "shirle.\n",
      "ela.\n",
      "migu íleloes.\n",
      "muel.\n",
      "deska.\n",
      "roxy.\n",
      "migevdn.\n",
      "gio.\n",
      "mpirisha.\n",
      "maría liana.\n",
      "mar.\n",
      "miguel.\n",
      "dolimariel carmen.\n",
      "sadel carmen.\n",
      "julia.\n",
      "rony.\n",
      "naudy.\n",
      "miguel.\n",
      "yenis.\n",
      "rohan.\n",
      "edel carmen.\n",
      "gises.\n",
      "luis fer.\n",
      "xohanna.\n",
      "cmina.\n",
      "arelica.\n",
      "maría del carmene.\n",
      "elo.\n",
      "miguel.\n",
      "maribelualkeyna.\n",
      "miguel.\n",
      "desiu.\n",
      "engel.\n",
      "nepioráebora.\n",
      "zora milis.\n",
      "mira del carmen.\n",
      "gibisabvelin.\n",
      "kevin.\n",
      "luis enrisha.\n",
      "marie.\n",
      "miguel.\n",
      "sadarie.\n",
      "marie.\n",
      "ana.\n",
      "kelis.\n",
      "anyernandra.\n",
      "micdarie.\n",
      "miguel.\n",
      "grego.\n",
      "puumi.\n",
      "elu.\n",
      "nelle.\n",
      "more.\n",
      "eleska.\n",
      "miguel.\n",
      "deska.\n",
      "migu ílela.\n",
      "george.\n",
      "eluaiabdemaría ter.\n",
      "ira milia.\n",
      "shira.\n",
      "mayra.\n",
      "desenni.\n",
      "miguel.\n",
      "mmmtziahfoxpeste.\n",
      "jesse mery.\n",
      "ely.\n",
      "áurayaneth.\n",
      "gises.\n",
      "morep.\n",
      "luis eled.\n",
      "abrie.\n",
      "georia.\n",
      "marilyn.\n",
      "mar.\n",
      "samilis.\n",
      "georgenis.\n",
      "jess.\n",
      "miguel.\n",
      "leika.\n",
      "rosé.\n",
      "neptalilia.\n",
      "micia.\n",
      "kevin.\n",
      "tsvzqey.\n",
      "rom.\n",
      "gerle.\n",
      "miguel.\n",
      "maría.\n",
      "dalejandrés.\n",
      "gises.\n",
      "neisay.\n",
      "celed.\n",
      "fer.\n",
      "emmanuel.\n",
      "melis.\n",
      "jorge.\n",
      "ira mznery.\n",
      "miguvyxwjfer.\n",
      "desiree.\n",
      "sadesiu.\n",
      "gisesa.\n",
      "samiriszym.\n",
      "miguel.\n",
      "engrabloryan.\n",
      "sora.\n",
      "miguel.\n",
      "jenny.\n",
      "rohan.\n",
      "radry nulay.\n",
      "george.\n",
      "jes.\n",
      "soos.\n",
      "evencino.\n",
      "xohanmiz.\n",
      "eloí daniel carmen.\n",
      "yosma.\n",
      "yorea.\n",
      "celeska.\n",
      "celeska.\n",
      "jenny.\n",
      "sofia.\n",
      "yenis.\n",
      "gises.\n",
      "jacda.\n",
      "brayana.\n",
      "jenny.\n",
      "engelle.\n",
      "jessana.\n",
      "gevdn.\n",
      "mig.\n",
      "kevin.\n"
     ]
    }
   ],
   "source": [
    "# sample from the model\n",
    "g = torch.Generator().manual_seed(2147048347 + 10)\n",
    "generated_names_list=[]\n",
    "for _ in range(200):\n",
    "    \n",
    "    out = []\n",
    "    context = [0] * block_size # initialize with all ...\n",
    "    while True:\n",
    "      emb = C[torch.tensor([context])] # (1,block_size,d)\n",
    "      h = torch.tanh(emb.view(1, -1) @ W1 + b1)\n",
    "      logits = h @ W2 + b2\n",
    "      probs = F.softmax(logits, dim=1)\n",
    "      ix = torch.multinomial(probs, num_samples=1, generator=g).item()\n",
    "      context = context[1:] + [ix]\n",
    "      out.append(ix)\n",
    "      if ix == 0:\n",
    "        break\n",
    "    \n",
    "    generated_names= ''.join(itos[i] for i in out)\n",
    "    generated_names_list.append(generated_names)\n",
    "    print(generated_names)\n"
   ]
  },
  {
   "cell_type": "code",
   "execution_count": 79,
   "metadata": {},
   "outputs": [],
   "source": [
    "#Cleans unwanted characters (i.e. '.')\n",
    "def output_cleaning(list_of_names):\n",
    "    final= []\n",
    "    for i in list_of_names:\n",
    "        if i.endswith('.'): \n",
    "            name_only= i[:-1]  # deletes final '.'\n",
    "            final.append(name_only)\n",
    "        else:\n",
    "            final.append(i)  # appends original name \n",
    "    return final"
   ]
  },
  {
   "cell_type": "code",
   "execution_count": 80,
   "metadata": {},
   "outputs": [
    {
     "name": "stdout",
     "output_type": "stream",
     "text": [
      "Number of original names:154\n",
      "['micueth', 'migdn josénna', 'morey', 'sorarlos angel', 'marishakti', 'melin', 'gioleana', 'yosmiris', 'miguela', 'fel', 'melis', 'arely', 'cragrosangelisa', 'igevdnyer', 'enriquira', 'zora', 'maría del carmeneky', 'georayan', 'jesra', 'sora maría vieta', 'yosmanuel', 'shayson', 'maría angelested', 'yuleska', 'margenis', 'belualkolle', 'gibisaa', 'micia', 'estefanyhaues', 'samith', 'sher', 'sadesi', 'reva', 'coro', 'neisa', 'norea', 'gio', 'miguela', 'lis', 'melis', 'arty', 'migevdn', 'rosana', 'neptalica', 'gise', 'fer', 'shira milenda', 'astricia', 'shery', 'wilfednoimbertonelsslela', 'gio', 'deska', 'shirle', 'ela', 'migu íleloes', 'muel', 'deska', 'migevdn', 'gio', 'mpirisha', 'maría liana', 'mar', 'dolimariel carmen', 'sadel carmen', 'rony', 'yenis', 'rohan', 'edel carmen', 'gises', 'luis fer', 'xohanna', 'cmina', 'arelica', 'maría del carmene', 'elo', 'maribelualkeyna', 'desiu', 'engel', 'nepioráebora', 'zora milis', 'mira del carmen', 'gibisabvelin', 'luis enrisha', 'sadarie', 'kelis', 'anyernandra', 'micdarie', 'grego', 'puumi', 'elu', 'nelle', 'more', 'eleska', 'deska', 'migu ílela', 'eluaiabdemaría ter', 'ira milia', 'shira', 'desenni', 'mmmtziahfoxpeste', 'jesse mery', 'ely', 'áurayaneth', 'gises', 'morep', 'luis eled', 'abrie', 'georia', 'mar', 'samilis', 'georgenis', 'jess', 'leika', 'rosé', 'neptalilia', 'micia', 'tsvzqey', 'rom', 'gerle', 'dalejandrés', 'gises', 'neisay', 'celed', 'fer', 'melis', 'ira mznery', 'miguvyxwjfer', 'sadesiu', 'gisesa', 'samiriszym', 'engrabloryan', 'sora', 'jenny', 'rohan', 'radry nulay', 'jes', 'soos', 'evencino', 'xohanmiz', 'eloí daniel carmen', 'yosma', 'yorea', 'celeska', 'celeska', 'jenny', 'yenis', 'gises', 'jacda', 'brayana', 'jenny', 'engelle', 'jessana', 'gevdn', 'mig']\n"
     ]
    }
   ],
   "source": [
    "#Original names only \n",
    "generated_names_list= output_cleaning(generated_names_list)\n",
    "original_names= [n for n in generated_names_list if n not in names]\n",
    "print(f'Number of original names:{len(original_names)}')\n",
    "print(original_names)"
   ]
  },
  {
   "cell_type": "code",
   "execution_count": 81,
   "metadata": {},
   "outputs": [],
   "source": [
    "#For human-evaluation. Uncomment if you want to generate a new list.\n",
    "\n",
    "# dict= {\"names\": original_names}  \n",
    "# df= pd.DataFrame(dict) # opens csv with names\n",
    "# df.to_csv('human_evaluation/generated_names_vzl.csv')\n"
   ]
  },
  {
   "cell_type": "code",
   "execution_count": 82,
   "metadata": {},
   "outputs": [
    {
     "name": "stdout",
     "output_type": "stream",
     "text": [
      "['michel', 'briela', 'luz elentina', 'vivia', 'sherle', 'maría mery', 'michel', 'michel', 'michel', 'glentina', 'angel', 'wilmery', 'luzka', 'ziul', 'michel', 'sherle', 'angely', 'fernandra', 'angely', 'michel', 'yumaría fernandrea', 'sheriren', 'kena', 'glentina', 'michel', 'briela', 'yenifel', 'michel', 'fernandrea', 'briel', 'fernandrea', 'ziulia', 'michel', 'luzka', 'marianiela', 'michel', 'michel', 'luis daviela', 'midfet', 'sherle', 'emilifernandrea', 'maría celentina', 'michel', 'michel', 'michel', 'michel', 'angel', 'luz eleska', 'nica', 'danielentina', 'sherle', 'rohaniel', 'maria del valentina', 'verónicol', 'briel', 'wilmery', 'marianiela', 'yosmiria del valentina', 'glentina', 'michel', 'aneisforo', 'briel valenssey', 'michel', 'jhocca eduardo', 'michel', 'michel', 'maría fernandrea', 'descarla', 'briela', 'kenrique jose', 'deborelizabel', 'michel', 'michel', 'maría fernandrea', 'michel', 'elicia', 'michel', 'michel', 'briela']\n",
      "Rate of acceptable names: 0.4906832298136646\n"
     ]
    }
   ],
   "source": [
    "#Human-evaluation results \n",
    "\n",
    "review= pd.read_csv('human_evaluation/generated_names_vzl_reviewed.csv') #read csv with reviewed data\n",
    "acceptable_names= [i[1] for i in review.values if i[2]==1] #takes all accepted names, labelled with 1.\n",
    "\n",
    "print(acceptable_names)\n",
    "\n",
    "print('Rate of acceptable names:', len(acceptable_names) / len(review))\n"
   ]
  }
 ],
 "metadata": {
  "kernelspec": {
   "display_name": "Python 3",
   "language": "python",
   "name": "python3"
  },
  "language_info": {
   "codemirror_mode": {
    "name": "ipython",
    "version": 3
   },
   "file_extension": ".py",
   "mimetype": "text/x-python",
   "name": "python",
   "nbconvert_exporter": "python",
   "pygments_lexer": "ipython3",
   "version": "3.11.8"
  }
 },
 "nbformat": 4,
 "nbformat_minor": 2
}
